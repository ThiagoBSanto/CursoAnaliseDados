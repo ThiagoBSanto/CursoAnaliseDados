{
  "nbformat": 4,
  "nbformat_minor": 0,
  "metadata": {
    "colab": {
      "provenance": [],
      "toc_visible": true,
      "authorship_tag": "ABX9TyMjZL66YhnOpRdnyp9yLMJJ",
      "include_colab_link": true
    },
    "kernelspec": {
      "name": "python3",
      "display_name": "Python 3"
    },
    "language_info": {
      "name": "python"
    }
  },
  "cells": [
    {
      "cell_type": "markdown",
      "metadata": {
        "id": "view-in-github",
        "colab_type": "text"
      },
      "source": [
        "<a href=\"https://colab.research.google.com/github/ThiagoBSanto/CursoAnaliseDados/blob/main/python.ipynb\" target=\"_parent\"><img src=\"https://colab.research.google.com/assets/colab-badge.svg\" alt=\"Open In Colab\"/></a>"
      ]
    },
    {
      "cell_type": "markdown",
      "source": [
        "# **Módulo 1 - Programação em Python**"
      ],
      "metadata": {
        "id": "yWHnLWWDvzEi"
      }
    },
    {
      "cell_type": "markdown",
      "source": [
        "Nesse módulo vamos estudar a sintaxe nativa do Python."
      ],
      "metadata": {
        "id": "VjA2hrNzwBqK"
      }
    },
    {
      "cell_type": "markdown",
      "source": [
        "**O que é Python?**"
      ],
      "metadata": {
        "id": "-GzmgpSswRap"
      }
    },
    {
      "cell_type": "markdown",
      "source": [
        "Python é uma linguagem de programação popular. Foi criada por Guido Van Rossum em 1991."
      ],
      "metadata": {
        "id": "kIQBb4xNwdla"
      }
    },
    {
      "cell_type": "markdown",
      "source": [
        "**Python pode ser usado para:**"
      ],
      "metadata": {
        "id": "Q7c6iJgZwqUZ"
      }
    },
    {
      "cell_type": "markdown",
      "source": [
        "1. Inteligência Artificial;\n",
        "2. Machine Learning;\n",
        "3. Desenvolvimento de software;\n",
        "4. Desenvolvimento de Aplicativos;\n",
        "5. Automações (RPA);\n",
        "6. Iot (Internet das coisas);\n",
        "7. Muitas outras"
      ],
      "metadata": {
        "id": "5NQMwauFw2Sa"
      }
    },
    {
      "cell_type": "markdown",
      "source": [
        "## **1. - Sintaxe básica**"
      ],
      "metadata": {
        "id": "YS7Di4juxZBC"
      }
    },
    {
      "cell_type": "markdown",
      "source": [
        "podemos  utilizar aspas simples ('  ')\n"
      ],
      "metadata": {
        "id": "LViJVTj-xmeb"
      }
    },
    {
      "cell_type": "markdown",
      "source": [
        "podemos  utilizar aspas duplas  (\"  \")"
      ],
      "metadata": {
        "id": "SGbPnUQOx_6j"
      }
    },
    {
      "cell_type": "markdown",
      "source": [
        "Utilizando o \\n para quebra de linha"
      ],
      "metadata": {
        "id": "BTRuWUTbyAxY"
      }
    },
    {
      "cell_type": "markdown",
      "source": [
        "Usamos o hashtag # para comentar qualquer codigo  a frente, na mesma linha"
      ],
      "metadata": {
        "id": "urm10gSLyGMp"
      }
    },
    {
      "cell_type": "code",
      "source": [
        "# Usando aspas simples\n",
        "print('Olá Mundo')"
      ],
      "metadata": {
        "colab": {
          "base_uri": "https://localhost:8080/"
        },
        "id": "kkDUCZ2ryX6j",
        "outputId": "69e7becc-7593-4594-e356-9a89b2be1b20"
      },
      "execution_count": null,
      "outputs": [
        {
          "output_type": "stream",
          "name": "stdout",
          "text": [
            "Olá Mundo\n"
          ]
        }
      ]
    },
    {
      "cell_type": "code",
      "source": [
        "#usando aspas duplas\n",
        "print(\"Olá Mundo\")"
      ],
      "metadata": {
        "colab": {
          "base_uri": "https://localhost:8080/"
        },
        "id": "-R9SwA2lyeaj",
        "outputId": "dcc61118-7bd5-4fb3-9db7-1b993d383dbe"
      },
      "execution_count": null,
      "outputs": [
        {
          "output_type": "stream",
          "name": "stdout",
          "text": [
            "Olá Mundo\n"
          ]
        }
      ]
    },
    {
      "cell_type": "code",
      "source": [
        "#Usando quebr de linha\n",
        "print(\"Olá\\nmundo\")"
      ],
      "metadata": {
        "colab": {
          "base_uri": "https://localhost:8080/"
        },
        "id": "lvICeh15zEvr",
        "outputId": "e6d626fb-0ad8-435a-c331-06c4bffc07c5"
      },
      "execution_count": null,
      "outputs": [
        {
          "output_type": "stream",
          "name": "stdout",
          "text": [
            "Olá\n",
            "mundo\n"
          ]
        }
      ]
    },
    {
      "cell_type": "markdown",
      "source": [
        "## **2. - Operadores matemáticos**"
      ],
      "metadata": {
        "id": "yY79lr-Ezxbb"
      }
    },
    {
      "cell_type": "markdown",
      "source": [
        "1. Soma\n",
        "2. Subtração\n",
        "3. Multiplicação\n",
        "4. Divisão\n",
        "5. Exponenciação\n",
        "6. Resto da divisão\n",
        "7. divisão de chão\n",
        "\n"
      ],
      "metadata": {
        "id": "9Bmw_YDwzzx7"
      }
    },
    {
      "cell_type": "code",
      "source": [
        "#soma\n",
        "1+3+4"
      ],
      "metadata": {
        "colab": {
          "base_uri": "https://localhost:8080/"
        },
        "id": "DAZPmzvW60k8",
        "outputId": "303f9917-5a75-4ca6-efde-95b02531896f"
      },
      "execution_count": null,
      "outputs": [
        {
          "output_type": "execute_result",
          "data": {
            "text/plain": [
              "8"
            ]
          },
          "metadata": {},
          "execution_count": 8
        }
      ]
    },
    {
      "cell_type": "code",
      "source": [
        "#subtração\n",
        "4-2"
      ],
      "metadata": {
        "colab": {
          "base_uri": "https://localhost:8080/"
        },
        "id": "uvl-FKjZ6490",
        "outputId": "a55d1e80-e603-408a-a4cd-66c7fd8b7005"
      },
      "execution_count": null,
      "outputs": [
        {
          "output_type": "execute_result",
          "data": {
            "text/plain": [
              "2"
            ]
          },
          "metadata": {},
          "execution_count": 9
        }
      ]
    },
    {
      "cell_type": "code",
      "source": [
        "#Multiplicação\n",
        "5*9"
      ],
      "metadata": {
        "colab": {
          "base_uri": "https://localhost:8080/"
        },
        "id": "R9WODHJO69et",
        "outputId": "76a48d98-bfc9-427d-9321-3be44d175b8f"
      },
      "execution_count": null,
      "outputs": [
        {
          "output_type": "execute_result",
          "data": {
            "text/plain": [
              "45"
            ]
          },
          "metadata": {},
          "execution_count": 11
        }
      ]
    },
    {
      "cell_type": "code",
      "source": [
        "#Exponenciação\n",
        "2**3"
      ],
      "metadata": {
        "colab": {
          "base_uri": "https://localhost:8080/"
        },
        "id": "0KHalARX7GrE",
        "outputId": "d0c60488-e59b-4778-a795-e138fdd1db20"
      },
      "execution_count": null,
      "outputs": [
        {
          "output_type": "execute_result",
          "data": {
            "text/plain": [
              "8"
            ]
          },
          "metadata": {},
          "execution_count": 12
        }
      ]
    },
    {
      "cell_type": "code",
      "source": [
        "# Resto da divisão\n",
        "3 % 4"
      ],
      "metadata": {
        "colab": {
          "base_uri": "https://localhost:8080/"
        },
        "id": "bElRTsZk7Oyc",
        "outputId": "0f03d176-8c7f-43be-84b6-b2beaf6b77b0"
      },
      "execution_count": null,
      "outputs": [
        {
          "output_type": "execute_result",
          "data": {
            "text/plain": [
              "3"
            ]
          },
          "metadata": {},
          "execution_count": 23
        }
      ]
    },
    {
      "cell_type": "code",
      "source": [
        "# divisão de chão\n",
        "8 // 4"
      ],
      "metadata": {
        "colab": {
          "base_uri": "https://localhost:8080/"
        },
        "id": "SdnkM0pR7Ytk",
        "outputId": "3ffa995b-875e-47a2-9374-3dcd0f6b2110"
      },
      "execution_count": null,
      "outputs": [
        {
          "output_type": "execute_result",
          "data": {
            "text/plain": [
              "2"
            ]
          },
          "metadata": {},
          "execution_count": 27
        }
      ]
    },
    {
      "cell_type": "markdown",
      "source": [
        "1º Parêntesis;\n",
        "\n",
        "---\n",
        "\n",
        "2º Expoentes;\n",
        "\n",
        "---\n",
        "\n",
        "\n",
        "3º Multiplicações e Divisões; (da esquerda para a direita)\n",
        "\n",
        "---\n",
        "\n",
        "\n",
        "4º Somas e Subtrações. (da esquerda para a direita)"
      ],
      "metadata": {
        "id": "zA3Wvnnz8TxF"
      }
    },
    {
      "cell_type": "markdown",
      "source": [
        "## **3. - Variáveis**\n"
      ],
      "metadata": {
        "id": "8JFr3JvB8owW"
      }
    },
    {
      "cell_type": "markdown",
      "source": [
        "Variavéis são contêineres para armazenar valores de dados"
      ],
      "metadata": {
        "id": "xju_vXTj8ve-"
      }
    },
    {
      "cell_type": "markdown",
      "source": [
        "Uma variável é criada no momento em que você atribui um valor a ela"
      ],
      "metadata": {
        "id": "b8pC6jdS825t"
      }
    },
    {
      "cell_type": "code",
      "source": [
        "# Variavéis\n",
        "nome = \"Thiago\"\n",
        "idade = 36\n",
        "homem = True\n",
        "altura = 1.78\n"
      ],
      "metadata": {
        "id": "ralaasVA9AVX"
      },
      "execution_count": null,
      "outputs": []
    },
    {
      "cell_type": "markdown",
      "source": [
        "## **4. - Tipos de dados**"
      ],
      "metadata": {
        "id": "Gza42vlD9fZ2"
      }
    },
    {
      "cell_type": "markdown",
      "source": [
        "1. Lista - [] - Valores mutáveis\n",
        "2. Tuplas - () - Valores imutáveis\n",
        "3. Dicionarios - {} - Valores mutáveis - com chave e valor"
      ],
      "metadata": {
        "id": "arSRNU8F9uBf"
      }
    },
    {
      "cell_type": "code",
      "source": [
        "lista = ['Thiago', 36, 'Casado']"
      ],
      "metadata": {
        "id": "OTxXboN39tpW"
      },
      "execution_count": null,
      "outputs": []
    },
    {
      "cell_type": "code",
      "source": [
        "lista[1]= 40\n",
        "print(lista)"
      ],
      "metadata": {
        "colab": {
          "base_uri": "https://localhost:8080/"
        },
        "id": "yEc2IWOE-Uxv",
        "outputId": "2050c5c1-5c13-485f-9fff-50e538336de3"
      },
      "execution_count": null,
      "outputs": [
        {
          "output_type": "stream",
          "name": "stdout",
          "text": [
            "['Thiago', 40, 'Casado']\n"
          ]
        }
      ]
    },
    {
      "cell_type": "code",
      "source": [
        "tupla = ('Thiago',36,'casado')"
      ],
      "metadata": {
        "id": "hpRSCQ3d-OGn"
      },
      "execution_count": null,
      "outputs": []
    },
    {
      "cell_type": "code",
      "source": [
        "tupla[1] = 40"
      ],
      "metadata": {
        "colab": {
          "base_uri": "https://localhost:8080/",
          "height": 141
        },
        "id": "dee098hv-fLw",
        "outputId": "e7bfb5c1-a2bb-4288-d0f0-2d02a2eb44d5"
      },
      "execution_count": null,
      "outputs": [
        {
          "output_type": "error",
          "ename": "TypeError",
          "evalue": "'tuple' object does not support item assignment",
          "traceback": [
            "\u001b[0;31m---------------------------------------------------------------------------\u001b[0m",
            "\u001b[0;31mTypeError\u001b[0m                                 Traceback (most recent call last)",
            "\u001b[0;32m<ipython-input-35-edb03082e545>\u001b[0m in \u001b[0;36m<cell line: 1>\u001b[0;34m()\u001b[0m\n\u001b[0;32m----> 1\u001b[0;31m \u001b[0mtupla\u001b[0m\u001b[0;34m[\u001b[0m\u001b[0;36m1\u001b[0m\u001b[0;34m]\u001b[0m \u001b[0;34m=\u001b[0m \u001b[0;36m40\u001b[0m\u001b[0;34m\u001b[0m\u001b[0;34m\u001b[0m\u001b[0m\n\u001b[0m",
            "\u001b[0;31mTypeError\u001b[0m: 'tuple' object does not support item assignment"
          ]
        }
      ]
    },
    {
      "cell_type": "markdown",
      "source": [
        "Tuplas não aceitam mudaças de valores, nesse caso, devemos recriar a variavel"
      ],
      "metadata": {
        "id": "cdo4T1E2-nhX"
      }
    },
    {
      "cell_type": "code",
      "source": [
        "tupla=(\"THIAGO\",40,\"Casado\")"
      ],
      "metadata": {
        "id": "6ZfQod5t-mj_"
      },
      "execution_count": null,
      "outputs": []
    },
    {
      "cell_type": "code",
      "source": [
        "dicionario = {'nome':\"Thiago\",'idade':36, 'Estado civil': 'Casado'}"
      ],
      "metadata": {
        "id": "-Bqda726--fX"
      },
      "execution_count": null,
      "outputs": []
    },
    {
      "cell_type": "code",
      "source": [
        "dicionario.keys()"
      ],
      "metadata": {
        "colab": {
          "base_uri": "https://localhost:8080/"
        },
        "id": "70264tJf_FeH",
        "outputId": "43ec75c1-2a96-48e6-bf1b-298e04b2be50"
      },
      "execution_count": null,
      "outputs": [
        {
          "output_type": "execute_result",
          "data": {
            "text/plain": [
              "dict_keys(['nome', 'idade', 'Estado civil'])"
            ]
          },
          "metadata": {},
          "execution_count": 45
        }
      ]
    },
    {
      "cell_type": "code",
      "source": [
        "dicionario.values()"
      ],
      "metadata": {
        "colab": {
          "base_uri": "https://localhost:8080/"
        },
        "id": "Fj-rTl_k_eBI",
        "outputId": "a097aa16-10d6-4f48-8933-cdf24e5fbe72"
      },
      "execution_count": null,
      "outputs": [
        {
          "output_type": "execute_result",
          "data": {
            "text/plain": [
              "dict_values(['Thiago', 36, 'Casado'])"
            ]
          },
          "metadata": {},
          "execution_count": 46
        }
      ]
    },
    {
      "cell_type": "markdown",
      "source": [
        "## **5. - Nomeação de variavéis**"
      ],
      "metadata": {
        "id": "dOnedyFn_wth"
      }
    },
    {
      "cell_type": "markdown",
      "source": [
        "Podemos nomerar variáveis e tipos de dados de diversar formas:\n",
        "\n",
        "\n",
        "1.   Declarar as variavéis em uma única linha de comando;\n",
        "2.   Atribuir um valor à diversas variavéis;\n",
        "3.   Declarar usando uma **Lista**:\n",
        "4.   Combinar variavéis\n",
        "5.   Operar com operadores matemáticos;\n",
        "6.   Muitos outros.\n",
        "\n"
      ],
      "metadata": {
        "id": "NRhBk8wZAff_"
      }
    },
    {
      "cell_type": "markdown",
      "source": [
        "### Nomeando"
      ],
      "metadata": {
        "id": "0aLGIsj4CGEI"
      }
    },
    {
      "cell_type": "code",
      "source": [
        "#Nomeando\n",
        "laranja , arroz, aimpim = \"fruta\", \"semente\", \"raiz\""
      ],
      "metadata": {
        "id": "sHngCRL5BSi1"
      },
      "execution_count": null,
      "outputs": []
    },
    {
      "cell_type": "code",
      "source": [
        "laranja"
      ],
      "metadata": {
        "colab": {
          "base_uri": "https://localhost:8080/",
          "height": 35
        },
        "id": "NspgyNgUBr4O",
        "outputId": "e140a5dd-53fc-4fcc-e54a-1a9301a4d6b5"
      },
      "execution_count": null,
      "outputs": [
        {
          "output_type": "execute_result",
          "data": {
            "text/plain": [
              "'fruta'"
            ],
            "application/vnd.google.colaboratory.intrinsic+json": {
              "type": "string"
            }
          },
          "metadata": {},
          "execution_count": 49
        }
      ]
    },
    {
      "cell_type": "code",
      "source": [
        "arroz"
      ],
      "metadata": {
        "colab": {
          "base_uri": "https://localhost:8080/",
          "height": 35
        },
        "id": "5Sgnv0ehBtGm",
        "outputId": "f50ce4b4-9bd4-471c-8dc9-357319252353"
      },
      "execution_count": null,
      "outputs": [
        {
          "output_type": "execute_result",
          "data": {
            "text/plain": [
              "'semente'"
            ],
            "application/vnd.google.colaboratory.intrinsic+json": {
              "type": "string"
            }
          },
          "metadata": {},
          "execution_count": 50
        }
      ]
    },
    {
      "cell_type": "code",
      "source": [
        "aimpim"
      ],
      "metadata": {
        "colab": {
          "base_uri": "https://localhost:8080/",
          "height": 35
        },
        "id": "2RVdhLVeBuI2",
        "outputId": "45370b71-881c-44b0-8442-c9c0ac1a80de"
      },
      "execution_count": null,
      "outputs": [
        {
          "output_type": "execute_result",
          "data": {
            "text/plain": [
              "'raiz'"
            ],
            "application/vnd.google.colaboratory.intrinsic+json": {
              "type": "string"
            }
          },
          "metadata": {},
          "execution_count": 51
        }
      ]
    },
    {
      "cell_type": "code",
      "source": [
        "# Nomeando\n",
        "morango = uva = kiwi = \"fruta\""
      ],
      "metadata": {
        "id": "MXASGbXOBve-"
      },
      "execution_count": null,
      "outputs": []
    },
    {
      "cell_type": "code",
      "source": [
        "morango"
      ],
      "metadata": {
        "colab": {
          "base_uri": "https://localhost:8080/",
          "height": 35
        },
        "id": "zjj-SB6QCAGn",
        "outputId": "8fcc449d-185c-4cdf-a17f-bc12313ea879"
      },
      "execution_count": null,
      "outputs": [
        {
          "output_type": "execute_result",
          "data": {
            "text/plain": [
              "'fruta'"
            ],
            "application/vnd.google.colaboratory.intrinsic+json": {
              "type": "string"
            }
          },
          "metadata": {},
          "execution_count": 53
        }
      ]
    },
    {
      "cell_type": "code",
      "source": [
        "uva"
      ],
      "metadata": {
        "colab": {
          "base_uri": "https://localhost:8080/",
          "height": 35
        },
        "id": "M5yRk3iaCBVv",
        "outputId": "0c4cc463-5837-4223-c9ab-d6fc9cc41c2c"
      },
      "execution_count": null,
      "outputs": [
        {
          "output_type": "execute_result",
          "data": {
            "text/plain": [
              "'fruta'"
            ],
            "application/vnd.google.colaboratory.intrinsic+json": {
              "type": "string"
            }
          },
          "metadata": {},
          "execution_count": 54
        }
      ]
    },
    {
      "cell_type": "code",
      "source": [
        "kiwi"
      ],
      "metadata": {
        "colab": {
          "base_uri": "https://localhost:8080/",
          "height": 35
        },
        "id": "VWLBvGN0CCT-",
        "outputId": "b40313a4-3d19-41f6-98c7-77c6221dc31e"
      },
      "execution_count": null,
      "outputs": [
        {
          "output_type": "execute_result",
          "data": {
            "text/plain": [
              "'fruta'"
            ],
            "application/vnd.google.colaboratory.intrinsic+json": {
              "type": "string"
            }
          },
          "metadata": {},
          "execution_count": 55
        }
      ]
    },
    {
      "cell_type": "markdown",
      "source": [
        "### Nomeando Com listas"
      ],
      "metadata": {
        "id": "OCJh_iVKCNHh"
      }
    },
    {
      "cell_type": "code",
      "source": [
        "lista_carros = ['vw','audi','Tesla']\n",
        "marca1,marca2,marca3 = lista_carros\n"
      ],
      "metadata": {
        "id": "N6DlbJJsCPfH"
      },
      "execution_count": null,
      "outputs": []
    },
    {
      "cell_type": "code",
      "source": [
        "marca1"
      ],
      "metadata": {
        "colab": {
          "base_uri": "https://localhost:8080/",
          "height": 35
        },
        "id": "KQ-ZM2xwCjqP",
        "outputId": "9362a0f5-e3a9-4cf6-ca6c-af6a86c57b45"
      },
      "execution_count": null,
      "outputs": [
        {
          "output_type": "execute_result",
          "data": {
            "text/plain": [
              "'vw'"
            ],
            "application/vnd.google.colaboratory.intrinsic+json": {
              "type": "string"
            }
          },
          "metadata": {},
          "execution_count": 58
        }
      ]
    },
    {
      "cell_type": "code",
      "source": [
        "marca2"
      ],
      "metadata": {
        "colab": {
          "base_uri": "https://localhost:8080/",
          "height": 35
        },
        "id": "te13iz_NCkkv",
        "outputId": "c0e0d380-6d48-4cb3-b609-e90ae2c70535"
      },
      "execution_count": null,
      "outputs": [
        {
          "output_type": "execute_result",
          "data": {
            "text/plain": [
              "'audi'"
            ],
            "application/vnd.google.colaboratory.intrinsic+json": {
              "type": "string"
            }
          },
          "metadata": {},
          "execution_count": 59
        }
      ]
    },
    {
      "cell_type": "code",
      "source": [
        "marca3"
      ],
      "metadata": {
        "colab": {
          "base_uri": "https://localhost:8080/",
          "height": 35
        },
        "id": "_kNM7r17Clfv",
        "outputId": "66fb17d3-cfd2-40c1-82ae-47ee1cb4ede6"
      },
      "execution_count": null,
      "outputs": [
        {
          "output_type": "execute_result",
          "data": {
            "text/plain": [
              "'Tesla'"
            ],
            "application/vnd.google.colaboratory.intrinsic+json": {
              "type": "string"
            }
          },
          "metadata": {},
          "execution_count": 60
        }
      ]
    },
    {
      "cell_type": "markdown",
      "source": [
        "### Combinar Variavéis"
      ],
      "metadata": {
        "id": "5im4ffSmDDTQ"
      }
    },
    {
      "cell_type": "code",
      "source": [
        "nome = \"Thiago\"\n",
        "sobrenome = \"Barbosa Santos\"\n",
        "nome_completo = nome +' '+ sobrenome"
      ],
      "metadata": {
        "id": "RRdlMfQhDIkX"
      },
      "execution_count": null,
      "outputs": []
    },
    {
      "cell_type": "code",
      "source": [
        "nome_completo"
      ],
      "metadata": {
        "colab": {
          "base_uri": "https://localhost:8080/",
          "height": 35
        },
        "id": "d3jGiySiDN9H",
        "outputId": "b79e23a8-8e37-4e97-b6da-2aa04403131b"
      },
      "execution_count": null,
      "outputs": [
        {
          "output_type": "execute_result",
          "data": {
            "text/plain": [
              "'Thiago Barbosa Santos'"
            ],
            "application/vnd.google.colaboratory.intrinsic+json": {
              "type": "string"
            }
          },
          "metadata": {},
          "execution_count": 65
        }
      ]
    },
    {
      "cell_type": "markdown",
      "source": [
        "## **6. - Tipo da informação**"
      ],
      "metadata": {
        "id": "aj_FSyTXD8LA"
      }
    },
    {
      "cell_type": "markdown",
      "source": [
        "Na programção, o tipo de dados é um conceito importante. Variavéis podem armazenar dados de diferentes tipos, e diferentes tipos podem fazer coisas diferentes. O Python tem os seguintes tipos de dados integrados por padrão, nestas categorias:\n",
        "\n",
        "\n",
        "1.   Text Type: *str*\n",
        "2.   Numeric Types: *int, float, complex*\n",
        "3.   Sequence Types: *list, tuple, range*\n",
        "4.   Mapping Type: *dict*\n",
        "5.   Set Types: *set, frozenset*\n",
        "6.   Boolean Type: *bool*\n",
        "7.   Binary Type: *bytes, bytearray, memoryview*"
      ],
      "metadata": {
        "id": "kR29dmM9E1Sw"
      }
    },
    {
      "cell_type": "code",
      "source": [
        "String = str(\"THIAGO\")\n",
        "Inteiro = int(10)\n",
        "Flutante = float(100.5)\n",
        "Complex = complex(1j)\n",
        "Lista = list(('Maçã','Morango'))\n",
        "Tupla = tuple(('A','B'))\n",
        "Range = range(6)\n",
        "Dicionario = dict(nome =  'Thiago', idade = 36)\n",
        "Set = set(('A','B','C'))\n",
        "Frozenset = frozenset(('A','B','C'))\n",
        "Boleano = bool(5)\n",
        "Bytes = bytes(5)\n",
        "BytesArray = bytearray(5)\n",
        "Memomryview = memoryview(Bytes)\n",
        "\n",
        "from datetime import datetime\n",
        "Data = datetime.today().date()"
      ],
      "metadata": {
        "id": "Eo5c_jpZGcK4"
      },
      "execution_count": null,
      "outputs": []
    },
    {
      "cell_type": "code",
      "source": [
        "String"
      ],
      "metadata": {
        "colab": {
          "base_uri": "https://localhost:8080/",
          "height": 35
        },
        "id": "U3xkgz_LIS_7",
        "outputId": "914cc812-7e02-4b8f-f07b-b0c242c19d8f"
      },
      "execution_count": null,
      "outputs": [
        {
          "output_type": "execute_result",
          "data": {
            "text/plain": [
              "'THIAGO'"
            ],
            "application/vnd.google.colaboratory.intrinsic+json": {
              "type": "string"
            }
          },
          "metadata": {},
          "execution_count": 70
        }
      ]
    },
    {
      "cell_type": "code",
      "source": [
        "Inteiro"
      ],
      "metadata": {
        "colab": {
          "base_uri": "https://localhost:8080/"
        },
        "id": "SKbALIvKIUH4",
        "outputId": "e15d904c-df0a-4e6a-9321-42f169550efd"
      },
      "execution_count": null,
      "outputs": [
        {
          "output_type": "execute_result",
          "data": {
            "text/plain": [
              "10"
            ]
          },
          "metadata": {},
          "execution_count": 71
        }
      ]
    },
    {
      "cell_type": "code",
      "source": [
        "Flutante"
      ],
      "metadata": {
        "colab": {
          "base_uri": "https://localhost:8080/"
        },
        "id": "kjwruQfAIVEY",
        "outputId": "b817fe57-ed18-4d52-de3e-53b3fd443ff7"
      },
      "execution_count": null,
      "outputs": [
        {
          "output_type": "execute_result",
          "data": {
            "text/plain": [
              "100.5"
            ]
          },
          "metadata": {},
          "execution_count": 72
        }
      ]
    },
    {
      "cell_type": "code",
      "source": [
        "Complex"
      ],
      "metadata": {
        "colab": {
          "base_uri": "https://localhost:8080/"
        },
        "id": "sdD3_25UIWY4",
        "outputId": "1d1b4f50-e5cf-44a9-c7ad-9ac543e9563d"
      },
      "execution_count": null,
      "outputs": [
        {
          "output_type": "execute_result",
          "data": {
            "text/plain": [
              "1j"
            ]
          },
          "metadata": {},
          "execution_count": 73
        }
      ]
    },
    {
      "cell_type": "code",
      "source": [
        "type(Complex)"
      ],
      "metadata": {
        "colab": {
          "base_uri": "https://localhost:8080/"
        },
        "id": "6R3bfRWKIXvX",
        "outputId": "c076d8bd-dee2-4365-cbaf-2ef9ae1b8733"
      },
      "execution_count": null,
      "outputs": [
        {
          "output_type": "execute_result",
          "data": {
            "text/plain": [
              "complex"
            ]
          },
          "metadata": {},
          "execution_count": 74
        }
      ]
    },
    {
      "cell_type": "code",
      "source": [
        "Memomryview"
      ],
      "metadata": {
        "colab": {
          "base_uri": "https://localhost:8080/"
        },
        "id": "N8EErPaZIbEI",
        "outputId": "4f482574-df8b-44a3-c06e-da14e863b165"
      },
      "execution_count": null,
      "outputs": [
        {
          "output_type": "execute_result",
          "data": {
            "text/plain": [
              "<memory at 0x7b024b837940>"
            ]
          },
          "metadata": {},
          "execution_count": 75
        }
      ]
    },
    {
      "cell_type": "code",
      "source": [
        "Data"
      ],
      "metadata": {
        "colab": {
          "base_uri": "https://localhost:8080/"
        },
        "id": "sAGsqMtxIgKR",
        "outputId": "750dcc9e-e2f5-4b83-db5e-46d372ca13ef"
      },
      "execution_count": null,
      "outputs": [
        {
          "output_type": "execute_result",
          "data": {
            "text/plain": [
              "datetime.date(2024, 2, 21)"
            ]
          },
          "metadata": {},
          "execution_count": 76
        }
      ]
    },
    {
      "cell_type": "code",
      "source": [],
      "metadata": {
        "id": "tiYtX7ZIIhy6"
      },
      "execution_count": null,
      "outputs": []
    },
    {
      "cell_type": "markdown",
      "source": [
        "## **7. - Comando** *round()*\n",
        "\n",
        "\n"
      ],
      "metadata": {
        "id": "vfGrXk8dIx-L"
      }
    },
    {
      "cell_type": "markdown",
      "source": [
        "Quando trabalhamos com números flutuante, podemos arrendodar o valor usando um comando nativo do Python round(valor,números de casas)"
      ],
      "metadata": {
        "id": "Swd3RgPBJHKb"
      }
    },
    {
      "cell_type": "code",
      "source": [
        "valor = 1.78963"
      ],
      "metadata": {
        "id": "sPnqRZX-JbPx"
      },
      "execution_count": null,
      "outputs": []
    },
    {
      "cell_type": "code",
      "source": [
        "round(valor,2)"
      ],
      "metadata": {
        "colab": {
          "base_uri": "https://localhost:8080/"
        },
        "id": "6mEAp-5JJeBB",
        "outputId": "44f82941-80f2-4402-df43-aa6382b4f065"
      },
      "execution_count": null,
      "outputs": [
        {
          "output_type": "execute_result",
          "data": {
            "text/plain": [
              "1.79"
            ]
          },
          "metadata": {},
          "execution_count": 79
        }
      ]
    },
    {
      "cell_type": "markdown",
      "source": [
        "## **8. - Comando** *len()*"
      ],
      "metadata": {
        "id": "lnfr4xELJtmk"
      }
    },
    {
      "cell_type": "markdown",
      "source": [
        "A função len() retorna a quantidade de elementos de qualquer lista, dicionario, tupla, o tamanho da cadeia de string e outros.."
      ],
      "metadata": {
        "id": "9g7xuG6rJ416"
      }
    },
    {
      "cell_type": "code",
      "source": [
        "#lista\n",
        "lista_compra = [\"Café\",\"Açúcar\",\"Leite\",\"Pão\"]\n",
        "len(lista_compra)"
      ],
      "metadata": {
        "colab": {
          "base_uri": "https://localhost:8080/"
        },
        "id": "OWnlGU70KJmh",
        "outputId": "d1649829-baf8-4e96-bb91-783cf746d106"
      },
      "execution_count": null,
      "outputs": [
        {
          "output_type": "execute_result",
          "data": {
            "text/plain": [
              "4"
            ]
          },
          "metadata": {},
          "execution_count": 82
        }
      ]
    },
    {
      "cell_type": "code",
      "source": [
        "#tupla\n",
        "outra_lista = (\"Café\",\"Açúcar\",\"Leite\",\"Pão\",\"Azeite\")\n",
        "len(outra_lista)"
      ],
      "metadata": {
        "colab": {
          "base_uri": "https://localhost:8080/"
        },
        "id": "BSJDbOIwKVr5",
        "outputId": "88b7124a-6e55-4c6e-a47e-8948a0bcc14b"
      },
      "execution_count": null,
      "outputs": [
        {
          "output_type": "execute_result",
          "data": {
            "text/plain": [
              "5"
            ]
          },
          "metadata": {},
          "execution_count": 85
        }
      ]
    },
    {
      "cell_type": "code",
      "source": [
        "#dicionario\n",
        "dicio = {\"Thiago\":['Santos',\"TI\",39],\"Kilma\":['Frateles','Psicologa',30]}\n",
        "len(dicio)"
      ],
      "metadata": {
        "colab": {
          "base_uri": "https://localhost:8080/"
        },
        "id": "9sGe84NHKdQQ",
        "outputId": "059697ee-fdec-4b12-c45a-9546389306f1"
      },
      "execution_count": null,
      "outputs": [
        {
          "output_type": "execute_result",
          "data": {
            "text/plain": [
              "2"
            ]
          },
          "metadata": {},
          "execution_count": 87
        }
      ]
    },
    {
      "cell_type": "code",
      "source": [
        "#String\n",
        "cadeia = \"presos\"\n",
        "len(cadeia)"
      ],
      "metadata": {
        "colab": {
          "base_uri": "https://localhost:8080/"
        },
        "id": "87EaQg4kK_pR",
        "outputId": "401c0a25-0c84-4f35-98b0-e8e18dc1988e"
      },
      "execution_count": null,
      "outputs": [
        {
          "output_type": "execute_result",
          "data": {
            "text/plain": [
              "6"
            ]
          },
          "metadata": {},
          "execution_count": 88
        }
      ]
    },
    {
      "cell_type": "code",
      "source": [
        "# obs String\n",
        "outra_cadeia = \"uva ovo\"\n",
        "len(outra_cadeia)"
      ],
      "metadata": {
        "colab": {
          "base_uri": "https://localhost:8080/"
        },
        "id": "vhibve4RLP3u",
        "outputId": "a03d890e-0749-4d6e-9954-c013304bec17"
      },
      "execution_count": null,
      "outputs": [
        {
          "output_type": "execute_result",
          "data": {
            "text/plain": [
              "7"
            ]
          },
          "metadata": {},
          "execution_count": 89
        }
      ]
    },
    {
      "cell_type": "markdown",
      "source": [
        "## **9. - Fatiamento de String**"
      ],
      "metadata": {
        "id": "MXStiOnTMaFT"
      }
    },
    {
      "cell_type": "markdown",
      "source": [
        "\n",
        "*   Strings são lista de bytes representado caracteres.\n",
        "\n",
        "*   Podemos acessar suas posiçõe usando **colchetes**\n",
        "\n",
        "*   String[ Posição Inicial: Posição Final ]\n",
        "\n",
        "\n"
      ],
      "metadata": {
        "id": "znuOoF6zMqAM"
      }
    },
    {
      "cell_type": "code",
      "source": [
        "minha_string = 'Aprender é top!'\n",
        "minha_string[2:5]"
      ],
      "metadata": {
        "colab": {
          "base_uri": "https://localhost:8080/",
          "height": 35
        },
        "id": "ngLyOtACM355",
        "outputId": "c61fbe9b-b78e-47b0-fc78-9221e76118a3"
      },
      "execution_count": null,
      "outputs": [
        {
          "output_type": "execute_result",
          "data": {
            "text/plain": [
              "'ren'"
            ],
            "application/vnd.google.colaboratory.intrinsic+json": {
              "type": "string"
            }
          },
          "metadata": {},
          "execution_count": 90
        }
      ]
    },
    {
      "cell_type": "code",
      "source": [
        "minha_string[:5]"
      ],
      "metadata": {
        "colab": {
          "base_uri": "https://localhost:8080/",
          "height": 35
        },
        "id": "PF-hvXGyNUbg",
        "outputId": "db7d78e4-f649-4229-f8fa-8b8b324af31b"
      },
      "execution_count": null,
      "outputs": [
        {
          "output_type": "execute_result",
          "data": {
            "text/plain": [
              "'Apren'"
            ],
            "application/vnd.google.colaboratory.intrinsic+json": {
              "type": "string"
            }
          },
          "metadata": {},
          "execution_count": 91
        }
      ]
    },
    {
      "cell_type": "code",
      "source": [
        "minha_string[5:]"
      ],
      "metadata": {
        "colab": {
          "base_uri": "https://localhost:8080/",
          "height": 35
        },
        "id": "qh07eLc0Ncsr",
        "outputId": "3ece6f14-226c-44ad-e329-3688b0c657a3"
      },
      "execution_count": null,
      "outputs": [
        {
          "output_type": "execute_result",
          "data": {
            "text/plain": [
              "'der é top!'"
            ],
            "application/vnd.google.colaboratory.intrinsic+json": {
              "type": "string"
            }
          },
          "metadata": {},
          "execution_count": 92
        }
      ]
    },
    {
      "cell_type": "markdown",
      "source": [
        "## **10. - Manipulação de Strings**<p>\n"
      ],
      "metadata": {
        "id": "yfRhiOJUPc0o"
      }
    },
    {
      "cell_type": "markdown",
      "source": [
        "###Um tipo de dados bastante usado no dia a dia são as strings, ou cadeias de caracteres (ou sequências de caracteres). O tipo de dados string, ou str como é chamado em Python, possui várias operações úteis associadas a ele. Essas operações tornam Python uma linguagem bastante propícia para manipulação de textos.\n",
        "Algumas funções mais utilizadas:\n",
        "\n",
        "1. replace()\n",
        "2. startswith()\n",
        "3. endswith()\n",
        "4. count()\n",
        "5. capitalize()\n",
        "6. isdigit()\n",
        "7. isalnum()\n",
        "8. upper()\n",
        "9. lower()\n",
        "10. find ()\n",
        "11. strip()\n",
        "12. split()\n"
      ],
      "metadata": {
        "id": "bHNPY9Q0Q_k4"
      }
    },
    {
      "cell_type": "code",
      "source": [
        "# Imprimindo uma string.\n",
        "String = 'Olá Mundão!'\n",
        "print( String )\n",
        "\n",
        "# Tipo de uma string.\n",
        "print( type( String ) )\n",
        "\n",
        "# Tamanho de uma string.\n",
        "print( len( String ) )\n",
        "\n",
        "# Concatenação\n",
        "print( String + ' Estou aprendendo Python...' )\n",
        "\n",
        "# Substitui uma substring por alguma outra coisa.\n",
        "Substituir = String.replace('Mundão', 'Mundo Louco :X')\n",
        "print( Substituir )\n",
        "\n",
        "# A string s começa com \"Olá\"?\n",
        "print( String.startswith('Olá') )\n",
        "\n",
        "# A string termina com \"mundo\"?\n",
        "print( String.endswith('mundo') )\n",
        "\n",
        "# Quantas ocorrências da palavra \"a\" a string possui?\n",
        "print( String.count('M') )\n",
        "\n",
        "# Capitalize - Transformar a primeira letra da primeira palavra em maiúscula.\n",
        "String_02 = 'Thiago Santos'\n",
        "print( String_02.capitalize() )\n",
        "\n",
        "# Verificar se uma string só possui números.\n",
        "String_03 = '123456789'\n",
        "String_04 = '123456789ABC'\n",
        "print( String_03.isdigit() )\n",
        "print( String_04.isdigit() )\n",
        "\n",
        "# Verificar se uma string é alfanumérica (só possui letras e números).\n",
        "print( '12345abc'.isalnum() )\n",
        "\n",
        "# Transformar tudo em Maiusculo\n",
        "print( String.upper() )\n",
        "\n",
        "# Transformar tudo em Minúsculo\n",
        "print( String.lower() )\n",
        "\n",
        "# Procurar algo na string\n",
        "print( String.find('!') )\n",
        "\n",
        "# Removendo espaçoes antes e fim da palavra\n",
        "String_05 =' Olá Mundão! '\n",
        "print( String_05.strip() )\n",
        "\n",
        "# Removendo espaçoes antes e fim da palavra\n",
        "String_06 ='Loja 1 vendou 10, Loja 2 vendou 20, Loja 3 vendou 30 '\n",
        "print( String_06.split(',') )"
      ],
      "metadata": {
        "colab": {
          "base_uri": "https://localhost:8080/"
        },
        "id": "EUzTNrYYPxow",
        "outputId": "cfbaaea1-3dfd-40e0-c0a0-3f39638deaa1"
      },
      "execution_count": 3,
      "outputs": [
        {
          "output_type": "stream",
          "name": "stdout",
          "text": [
            "Olá Mundão!\n",
            "<class 'str'>\n",
            "11\n",
            "Olá Mundão! Estou aprendendo Python...\n",
            "Olá Mundo Louco :X!\n",
            "True\n",
            "False\n",
            "1\n",
            "Thiago santos\n",
            "True\n",
            "False\n",
            "True\n",
            "OLÁ MUNDÃO!\n",
            "olá mundão!\n",
            "10\n",
            "Olá Mundão!\n",
            "['Loja 1 vendou 10', ' Loja 2 vendou 20', ' Loja 3 vendou 30 ']\n"
          ]
        }
      ]
    },
    {
      "cell_type": "markdown",
      "source": [
        "## **11. - Comando Input**\n"
      ],
      "metadata": {
        "id": "a4nCYdGoQVE7"
      }
    },
    {
      "cell_type": "markdown",
      "source": [
        "###A função input() recebe como parâmetro uma string que será mostrada como auxílio ao usuário, geralmente o informando que tipo de dado o programa está aguardando receber.\n",
        "\n",
        "input()"
      ],
      "metadata": {
        "id": "xJEhknSCRG6c"
      }
    },
    {
      "cell_type": "code",
      "source": [
        "# Comando input\n",
        "# Enviar uma informação momentânea\n",
        "\n",
        "Nome = input('Qual seu nome? ')\n",
        "Idade = input('Quantos anos você tem? ')\n",
        "\n",
        "print('Seu nome é:', Nome)\n",
        "print('Sua idade:', Idade)"
      ],
      "metadata": {
        "colab": {
          "base_uri": "https://localhost:8080/"
        },
        "id": "t9ZAtfXwQolY",
        "outputId": "1a75f84d-eb85-466e-a730-7fa7d1ea996c"
      },
      "execution_count": 4,
      "outputs": [
        {
          "output_type": "stream",
          "name": "stdout",
          "text": [
            "Qual seu nome? THiago\n",
            "Quantos anos você tem? 15\n",
            "Seu nome é: THiago\n",
            "Sua idade: 15\n"
          ]
        }
      ]
    },
    {
      "cell_type": "markdown",
      "source": [
        "## **12. - Operadores de Comparação**\n"
      ],
      "metadata": {
        "id": "-P_xPCMoQtQ3"
      }
    },
    {
      "cell_type": "markdown",
      "source": [
        "###Os operadores de comparação são usados ​​para comparar dois valores:\n",
        "1. '==' ( Igual a )\n",
        "2. '!=' ( Diferente )\n",
        "3. '>' ( Maior )\n",
        "4. '<' ( Menor )\n",
        "5. '>=' ( Maior igual )\n",
        "6. '<=' ( Menor igual )"
      ],
      "metadata": {
        "id": "QiYTmnF5RMlQ"
      }
    },
    {
      "cell_type": "code",
      "source": [
        "# Operadores de Comparações - Parte 1\n",
        "Igual = '=='\n",
        "Diferente = '!='\n",
        "Maior = '>'\n",
        "Maior_Igual = '>='\n",
        "Menor = '<'\n",
        "Menor_Igual = '<='\n",
        "\n",
        "print('8 é maior que 7:', 8 > 7 )\n",
        "print('8 é menor que 7:', 8 < 7 )\n",
        "print('8 é igual 7:', 8 == 7 )\n",
        "print('10 é maior 10:', 10 > 10 )\n",
        "print('10 é maior ou igual à 10:', 10 >= 10 )\n",
        "print('10 é menor 10:', 10 < 10 )\n",
        "print('10 é menor ou igual à 10:', 10 <= 10 )"
      ],
      "metadata": {
        "colab": {
          "base_uri": "https://localhost:8080/"
        },
        "id": "ncgyki6AQwkt",
        "outputId": "faee10ce-2998-472f-fbe2-c8602dbf8d03"
      },
      "execution_count": 5,
      "outputs": [
        {
          "output_type": "stream",
          "name": "stdout",
          "text": [
            "8 é maior que 7: True\n",
            "8 é menor que 7: False\n",
            "8 é igual 7: False\n",
            "10 é maior 10: False\n",
            "10 é maior ou igual à 10: True\n",
            "10 é menor 10: False\n",
            "10 é menor ou igual à 10: True\n"
          ]
        }
      ]
    },
    {
      "cell_type": "markdown",
      "source": [
        "## **13. - Operadores Lógicos**"
      ],
      "metadata": {
        "id": "1_sQjEYlRK94"
      }
    },
    {
      "cell_type": "markdown",
      "source": [
        "###Os operadores lógicos são usados ​​para combinar instruções condicionais:\n",
        "1. and (Retorna True se ambas as declarações forem verdadeiras)\n",
        "2. or (Retorna True se uma das declarações for verdadeira)"
      ],
      "metadata": {
        "id": "ZkldXy4PRT2p"
      }
    },
    {
      "cell_type": "code",
      "source": [
        "# Operadores de Comparações - Parte 2\n",
        "And = 'and'\n",
        "Ou = 'or'\n",
        "Negação = 'not'\n",
        "\n",
        "print('8 é maior que 7 e 7 maior que 8:', 8 > 7 and 7 > 8 )\n",
        "print('8 é maior que 7 e 7 menor que 8:', 8 > 7 and 7 < 8 )\n",
        "print('8 é maior que 7 ou 7 menor que 8:', 8 == 7 or 7 == 8 )\n",
        "print('8 é maior que 7 ou 7 menor que 8:', 8 > 7 or 7 > 8 )"
      ],
      "metadata": {
        "colab": {
          "base_uri": "https://localhost:8080/"
        },
        "id": "fTCXH67BRSD0",
        "outputId": "686c1b8f-cdf9-443e-eca1-5be8cbd5668e"
      },
      "execution_count": 6,
      "outputs": [
        {
          "output_type": "stream",
          "name": "stdout",
          "text": [
            "8 é maior que 7 e 7 maior que 8: False\n",
            "8 é maior que 7 e 7 menor que 8: True\n",
            "8 é maior que 7 ou 7 menor que 8: False\n",
            "8 é maior que 7 ou 7 menor que 8: True\n"
          ]
        }
      ]
    },
    {
      "cell_type": "markdown",
      "source": [
        "## **14. - Operadores de Identidade**"
      ],
      "metadata": {
        "id": "3q5elnF3ReQ4"
      }
    },
    {
      "cell_type": "markdown",
      "source": [
        "###Os operadores de identidade são usados ​​para comparar os objetos, não se forem iguais, mas se forem realmente o mesmo objeto, com a mesma localização de memória:\n",
        "1. is (Retorna True se ambas as variáveis ​​forem o mesmo objeto)\n",
        "2. is not (Retorna True se ambas as variáveis ​​não forem o mesmo objeto)"
      ],
      "metadata": {
        "id": "9Df9IiokRgec"
      }
    },
    {
      "cell_type": "code",
      "source": [
        "String_01 = str('Olá Mundão')\n",
        "String_02 = str('Olá Mundão')\n",
        "\n",
        "print( String_01 is String_01 )\n",
        "print( String_01 is String_02 )\n",
        "print( String_01 == String_02 )\n",
        "print( type(String_01) is type(String_02) )"
      ],
      "metadata": {
        "colab": {
          "base_uri": "https://localhost:8080/"
        },
        "id": "WwUuAb5oRlMF",
        "outputId": "9af974ff-e14b-4e6f-b988-4dcc350d66fb"
      },
      "execution_count": 7,
      "outputs": [
        {
          "output_type": "stream",
          "name": "stdout",
          "text": [
            "True\n",
            "False\n",
            "True\n",
            "True\n"
          ]
        }
      ]
    },
    {
      "cell_type": "markdown",
      "source": [
        "## **15. - Operadores de Associação**"
      ],
      "metadata": {
        "id": "BYIPINQQRz5Z"
      }
    },
    {
      "cell_type": "markdown",
      "source": [
        "###Os operadores de associação são usados ​​para testar se uma sequência é apresentada em um objeto:\n",
        "1. in (Retorna True se uma sequência com o valor especificado estiver presente no objeto)\n",
        "2. not in (Retorna True se uma sequência com o valor especificado não estiver presente no objeto)"
      ],
      "metadata": {
        "id": "guqVyOQjR28O"
      }
    },
    {
      "cell_type": "code",
      "source": [
        "Lista_Ações = ['Magalu', 'Via', 'Assai', 'Carrefour']\n",
        "\n",
        "print( 'Via' in Lista_Ações )\n",
        "print( 'Via' not in Lista_Ações )"
      ],
      "metadata": {
        "colab": {
          "base_uri": "https://localhost:8080/"
        },
        "id": "yQRgDRbVR6el",
        "outputId": "f9f8e16c-cf62-4c07-f791-2ea4496f18e2"
      },
      "execution_count": 8,
      "outputs": [
        {
          "output_type": "stream",
          "name": "stdout",
          "text": [
            "True\n",
            "False\n"
          ]
        }
      ]
    },
    {
      "cell_type": "markdown",
      "source": [
        "## **16. - Manipulando Listas**\n",
        "\n"
      ],
      "metadata": {
        "id": "u5Lvptx2R-sH"
      }
    },
    {
      "cell_type": "markdown",
      "source": [
        "###As listas são usadas para armazenar vários itens em uma única variável.\n",
        "\n",
        "As listas são um dos 4 tipos de dados internos do Python usados ​​para armazenar coleções de dados, os outros 3 são Tuple , Set e Dictionary , todos com qualidades e usos diferentes.<p>\n",
        "Comandos mais utilizados:\n",
        "1. append() - Para adicionar um item ao final da lista\n",
        "2. len() - Calcular o tamanho da lista\n",
        "3. [  ] - Acessar posições\n",
        "4. del() - Exlcuir um elemtno\n",
        "5. clear() - Limpar a lista\n",
        "6. insert() - Para inserir um item de lista em um índice especificado\n",
        "7. extend() - Anexar elementos de outra lista à lista atual\n",
        "8. remove() - Remove o item especificado\n",
        "9. pop() - Remove o índice especificado.\n",
        "10. sort() - Ordenar os valores\n",
        "11. copy() - Faz uma copia da Lista\n",
        "12. index() - Retorna o index do elemento da lista"
      ],
      "metadata": {
        "id": "nUSOIIbkS2FL"
      }
    },
    {
      "cell_type": "code",
      "source": [
        "# Manipulando dados dentro das Lista\n",
        "Lista_Vazia = []\n",
        "print('Lista antes:', Lista_Vazia, '\\n' )\n",
        "\n",
        "# Inserindo valores na Lista\n",
        "Lista_Vazia.append(1)\n",
        "Lista_Vazia.append(2)\n",
        "Lista_Vazia.append(3)\n",
        "print('Lista Depois:', Lista_Vazia, '\\n' )\n",
        "\n",
        "# Tamanho da lista\n",
        "print('Lista contém:', len(Lista_Vazia), 'elementos', '\\n' )\n",
        "\n",
        "# Tamanho da lista\n",
        "print('Acessando o 1º Elemento:', Lista_Vazia[0] )\n",
        "print('Acessando o 2º Elemento:', Lista_Vazia[1] )\n",
        "print('Acessando o último Elemento:', Lista_Vazia[-1] )\n",
        "print('Acessando um periodo:', Lista_Vazia[0:2], '\\n' )\n",
        "\n",
        "# Excluindo valor na lista\n",
        "del Lista_Vazia[1]\n",
        "print('Depois da exclusão:', Lista_Vazia, '\\n' )\n",
        "\n",
        "# Limpando a lista\n",
        "print('Depois da Limpeza:', Lista_Vazia.clear(), '\\n' )\n",
        "\n",
        "# Inserindo um valor com uma posição\n",
        "Lista_Inserir = ['Posição 1', 'Posição 2', 'Posição 3']\n",
        "Lista_Inserir.insert( 0, 'Posição 4' )\n",
        "print( Lista_Inserir, '\\n' )\n",
        "\n",
        "# Inserindo uma lista na outra\n",
        "Lista_Inserir_01 = ['Posição 1', 'Posição 2', 'Posição 3']\n",
        "Lista_Inserir_02 = ['Posição 4', 'Posição 5', 'Posição 6']\n",
        "Lista_Inserir_01.extend( Lista_Inserir_02 )\n",
        "print( Lista_Inserir_01, '\\n' )\n",
        "\n",
        "# Removendo itens especifico pelo nome\n",
        "Lista_Inserir_01.remove('Posição 6')\n",
        "print( Lista_Inserir_01, '\\n' )\n",
        "\n",
        "# Removendo itens pelo index\n",
        "Lista_Inserir_01.pop(0)\n",
        "print( Lista_Inserir_01, '\\n' )\n",
        "\n",
        "# Ordenar uma lista\n",
        "Lista_Alfabetica = ['Z', 'C', 'A', 'B', 'L']\n",
        "Lista_Alfabetica.sort()\n",
        "print( Lista_Alfabetica, '\\n' )\n",
        "\n",
        "# Ordenar uma lista de forma inversa\n",
        "Lista_Alfabetica.sort( reverse=True )\n",
        "print( Lista_Alfabetica, '\\n' )\n",
        "\n",
        "# Copiar uma Lista\n",
        "Lista_Alfabetica_02 = Lista_Alfabetica.copy()\n",
        "print( Lista_Alfabetica_02, '\\n' )\n",
        "\n",
        "# Indetificar o Index do elemtno na lista\n",
        "print( Lista_Alfabetica_02.index('L'), '\\n' )"
      ],
      "metadata": {
        "colab": {
          "base_uri": "https://localhost:8080/"
        },
        "id": "E3SLywWrS6Zk",
        "outputId": "897ba096-94e2-4692-ffe2-bd3b02261cbc"
      },
      "execution_count": 9,
      "outputs": [
        {
          "output_type": "stream",
          "name": "stdout",
          "text": [
            "Lista antes: [] \n",
            "\n",
            "Lista Depois: [1, 2, 3] \n",
            "\n",
            "Lista contém: 3 elementos \n",
            "\n",
            "Acessando o 1º Elemento: 1\n",
            "Acessando o 2º Elemento: 2\n",
            "Acessando o último Elemento: 3\n",
            "Acessando um periodo: [1, 2] \n",
            "\n",
            "Depois da exclusão: [1, 3] \n",
            "\n",
            "Depois da Limpeza: None \n",
            "\n",
            "['Posição 4', 'Posição 1', 'Posição 2', 'Posição 3'] \n",
            "\n",
            "['Posição 1', 'Posição 2', 'Posição 3', 'Posição 4', 'Posição 5', 'Posição 6'] \n",
            "\n",
            "['Posição 1', 'Posição 2', 'Posição 3', 'Posição 4', 'Posição 5'] \n",
            "\n",
            "['Posição 2', 'Posição 3', 'Posição 4', 'Posição 5'] \n",
            "\n",
            "['A', 'B', 'C', 'L', 'Z'] \n",
            "\n",
            "['Z', 'L', 'C', 'B', 'A'] \n",
            "\n",
            "['Z', 'L', 'C', 'B', 'A'] \n",
            "\n",
            "1 \n",
            "\n"
          ]
        }
      ]
    },
    {
      "cell_type": "markdown",
      "source": [
        "## **17. - Pacote Externo - Datetime**"
      ],
      "metadata": {
        "id": "jDhm55aMTDtj"
      }
    },
    {
      "cell_type": "markdown",
      "source": [
        "###O datetime módulo fornece classes para manipulação de datas e horas."
      ],
      "metadata": {
        "id": "MQ_2OZ9BTPx2"
      }
    },
    {
      "cell_type": "code",
      "source": [
        "import datetime\n",
        "\n",
        "# Dia de Hoje\n",
        "Dia_Hoje = datetime.datetime.today().date()\n",
        "print( f'Hoje é: {Dia_Hoje} \\n' )\n",
        "\n",
        "# Construindo uma Data\n",
        "Data = datetime.date(2020, 10, 1)\n",
        "print( f'Construindo uma Data {Data} \\n' )\n",
        "\n",
        "# Acessando os atributos da DAta\n",
        "Ano = Data.year\n",
        "Mes = Data.month\n",
        "Dia = Data.day\n",
        "print(f'Hoje Construido é dia {Dia} do mês {Mes} do ano de {Ano} \\n')\n",
        "\n",
        "# Operação\n",
        "Intervalo =  Dia_Hoje - Data\n",
        "print(f'Já ocorreu {Intervalo} dias \\n' )\n",
        "\n",
        "# Ajustando o formato\n",
        "Novo_Formato = Dia_Hoje.strftime('%d/%m/%y')\n",
        "print( f'Hoje é: {Novo_Formato} \\n' )\n",
        "\n",
        "# Aumentar dias ou diminuir\n",
        "print( f'Somando 30 dias, {Dia_Hoje + datetime.timedelta(days = 30)}' )\n",
        "print( f'Diminuindo 30 dias, {Dia_Hoje - datetime.timedelta(days = 30)}' )"
      ],
      "metadata": {
        "colab": {
          "base_uri": "https://localhost:8080/"
        },
        "id": "5OWig2L-TSxt",
        "outputId": "9746b019-c832-4ce8-cd2a-8d7e0c74d965"
      },
      "execution_count": 13,
      "outputs": [
        {
          "output_type": "stream",
          "name": "stdout",
          "text": [
            "Hoje é: 2024-02-21 \n",
            "\n",
            "Construindo uma Data 2020-10-01 \n",
            "\n",
            "Hoje Construido é dia 1 do mês 10 do ano de 2020 \n",
            "\n",
            "Já ocorreu 1238 days, 0:00:00 dias \n",
            "\n",
            "Hoje é: 21/02/24 \n",
            "\n",
            "Somando 30 dias, 2024-03-22\n",
            "Diminuindo 30 dias, 2024-01-22\n"
          ]
        }
      ]
    },
    {
      "cell_type": "markdown",
      "source": [
        "## **18. - Pacote Externo - Time**\n"
      ],
      "metadata": {
        "id": "8Z65ZKBxTVhW"
      }
    },
    {
      "cell_type": "markdown",
      "source": [
        "###Este módulo fornece várias funções relacionadas ao tempo"
      ],
      "metadata": {
        "id": "c-UL-5jsT_a9"
      }
    },
    {
      "cell_type": "code",
      "source": [
        "# Importar a Lib\n",
        "import time\n",
        "\n",
        "print('Esse print foi rápido!')\n",
        "time.sleep(2.5)\n",
        "print('Esse print aconteceu depois de 2.5 segundos \\n')\n",
        "\n",
        "# Capturar o local agora\n",
        "Agora = time.localtime()\n",
        "print( type(Agora) )\n",
        "print( Agora )\n",
        "print( time.strftime('%m/%d/%Y, %H:%M:%S', Agora ), '\\n' )\n",
        "\n",
        "# Converter uma string para time\n",
        "Time_Texto = '21 June, 2018'\n",
        "Conversao = time.strptime(Time_Texto, '%d %B, %Y')\n",
        "print(Conversao)"
      ],
      "metadata": {
        "colab": {
          "base_uri": "https://localhost:8080/"
        },
        "id": "x_0NHy1bUBye",
        "outputId": "4741d4da-d0a1-43ab-ce24-304c7f004cf9"
      },
      "execution_count": 14,
      "outputs": [
        {
          "output_type": "stream",
          "name": "stdout",
          "text": [
            "Esse print foi rápido!\n",
            "Esse print aconteceu depois de 2.5 segundos \n",
            "\n",
            "<class 'time.struct_time'>\n",
            "time.struct_time(tm_year=2024, tm_mon=2, tm_mday=21, tm_hour=20, tm_min=16, tm_sec=46, tm_wday=2, tm_yday=52, tm_isdst=0)\n",
            "02/21/2024, 20:16:46 \n",
            "\n",
            "time.struct_time(tm_year=2018, tm_mon=6, tm_mday=21, tm_hour=0, tm_min=0, tm_sec=0, tm_wday=3, tm_yday=172, tm_isdst=-1)\n"
          ]
        }
      ]
    },
    {
      "cell_type": "markdown",
      "source": [
        "## **19. - Pacote Externo - Math**"
      ],
      "metadata": {
        "id": "iMJ6iiSnUEGe"
      }
    },
    {
      "cell_type": "markdown",
      "source": [
        "###O Python possui um conjunto de funções matemáticas integradas, incluindo um extenso módulo matemático, que permite realizar tarefas matemáticas em números.\n"
      ],
      "metadata": {
        "id": "7NTdm0K1ULjm"
      }
    },
    {
      "cell_type": "code",
      "source": [
        "import math\n",
        "\n",
        "# Sem necessidade do math\n",
        "\n",
        "# Minino e Maximo\n",
        "Tupla = (10, 15, 5, 8, 20)\n",
        "print( min(Tupla) )\n",
        "print( max(Tupla) )\n",
        "\n",
        "# ABS  retorna o valor absoluto (positivo) do número especificado\n",
        "print( abs(-7.25) )\n",
        "\n",
        "# Retorna a potencia (seria o msm que 3 * 3 * 3 * 3)\n",
        "print( pow(3, 4) )\n",
        "\n",
        "# Raiz quadrada\n",
        "Raiz_Quadrada = math.sqrt( 81 )\n",
        "print( Raiz_Quadrada )\n",
        "\n",
        "# Arrendondamento\n",
        "\n",
        "# Arredonda um número para cima até o número inteiro mais próximo\n",
        "print( math.ceil(1.4) )\n",
        "\n",
        "# Arredonda um número para baixo até o número inteiro mais próximo\n",
        "print( math.floor(1.4) )\n",
        "\n",
        "# retorna o numero de PI\n",
        "print( math.pi )"
      ],
      "metadata": {
        "colab": {
          "base_uri": "https://localhost:8080/"
        },
        "id": "iCeMSX03UPne",
        "outputId": "32b3ba9d-130c-429f-91e5-1ff8ba5c36de"
      },
      "execution_count": 15,
      "outputs": [
        {
          "output_type": "stream",
          "name": "stdout",
          "text": [
            "5\n",
            "20\n",
            "7.25\n",
            "81\n",
            "9.0\n",
            "2\n",
            "1\n",
            "3.141592653589793\n"
          ]
        }
      ]
    },
    {
      "cell_type": "markdown",
      "source": [
        "## **20. - Pacote Externo - Random**"
      ],
      "metadata": {
        "id": "U-7o5aNSUtht"
      }
    },
    {
      "cell_type": "markdown",
      "source": [
        "###Este módulo implementa geradores de números pseudo-aleatórios para várias distribuições."
      ],
      "metadata": {
        "id": "OjhBihtIU4YV"
      }
    },
    {
      "cell_type": "code",
      "source": [
        "# import random\n",
        "import random\n",
        "\n",
        "# Lista numerico\n",
        "Lista_Numerica = [1, 2, 3, 4, 5, 6]\n",
        "print(f'O número sorteado foi: {random.choice(Lista_Numerica)} \\n')\n",
        "\n",
        "# Sortear uma letra da palavra\n",
        "Palavra = 'Thiago'\n",
        "print(f'A Letra sorteada foi: {random.choice(Palavra)} \\n')\n",
        "\n",
        "# Numero aleatorio entre 0 e 1\n",
        "Numero_Aleatorio = random.random()\n",
        "print(f'O Numero gerado foi: {Numero_Aleatorio} \\n')\n",
        "\n",
        "Numero_Aleatorio_01 = random.randint(0, 10)\n",
        "print(f'Número aleatorio entre 1 e 10 foi: {Numero_Aleatorio_01}')"
      ],
      "metadata": {
        "colab": {
          "base_uri": "https://localhost:8080/"
        },
        "id": "m1R2GxYRU9he",
        "outputId": "5fb795ea-94f0-4cfd-f027-6d9b13b612fd"
      },
      "execution_count": 17,
      "outputs": [
        {
          "output_type": "stream",
          "name": "stdout",
          "text": [
            "O número sorteado foi: 4 \n",
            "\n",
            "A Letra sorteada foi: o \n",
            "\n",
            "O Numero gerado foi: 0.4804570972891826 \n",
            "\n",
            "Número aleatorio entre 1 e 10 foi: 4\n"
          ]
        }
      ]
    },
    {
      "cell_type": "markdown",
      "source": [
        "## **21. - Pacote Externo - Statistics**"
      ],
      "metadata": {
        "id": "0Pu51KoXU_-d"
      }
    },
    {
      "cell_type": "markdown",
      "source": [
        "###Este módulo fornece funções para calcular estatísticas matemáticas de dados numéricos e interage com as listas"
      ],
      "metadata": {
        "id": "GzIWpRunVdiG"
      }
    },
    {
      "cell_type": "code",
      "source": [
        "# Importando a Statistics para operar nas listas\n",
        "import statistics\n",
        "\n",
        "# Retirando a média\n",
        "Media = statistics.mean( [1, 2, 3, 4, 4] )\n",
        "print(f'A media seria: {Media} \\n')\n",
        "\n",
        "Mediana = statistics.median( [1, 2, 3, 4, 4] )\n",
        "print(f'A mediana seria: {Mediana} \\n')\n",
        "\n",
        "Moda = statistics.mode( [1, 2, 3, 4, 4] )\n",
        "print(f'A moda seria: {Moda}')"
      ],
      "metadata": {
        "colab": {
          "base_uri": "https://localhost:8080/"
        },
        "id": "fhhaM6I7ViLO",
        "outputId": "85de35f0-6295-4005-a074-bf958428dd38"
      },
      "execution_count": 18,
      "outputs": [
        {
          "output_type": "stream",
          "name": "stdout",
          "text": [
            "A media seria: 2.8 \n",
            "\n",
            "A mediana seria: 3 \n",
            "\n",
            "A moda seria: 4\n"
          ]
        }
      ]
    },
    {
      "cell_type": "markdown",
      "source": [
        "## **22. - Condição If**"
      ],
      "metadata": {
        "id": "TZuZIcAXVwA4"
      }
    },
    {
      "cell_type": "markdown",
      "source": [
        "###if é a declaração mais simples de tomada de decisão. <p>Ele é usado para decidir se uma determinada instrução ou bloco de instruções será executado ou não, ou seja, se uma determinada condição for verdadeira, um bloco de instruções será executado, caso contrário, não.\n",
        "\n",
        "if condição :<p>\n",
        "*   declarações a serem executadas se\n",
        "*   condição é verdadeira\n"
      ],
      "metadata": {
        "id": "0z1Ir6ujV8Nu"
      }
    },
    {
      "cell_type": "code",
      "source": [
        "# Condição se a pessoa tiver menor de 18 anos, ela nao no sistema.\n",
        "Idade = 20\n",
        "\n",
        "if Idade >= 18:\n",
        "  print('você é maior de idade!')"
      ],
      "metadata": {
        "colab": {
          "base_uri": "https://localhost:8080/"
        },
        "id": "kE6lC_dzV_Pm",
        "outputId": "1afec887-a095-40a2-8903-aa90e3d7f34d"
      },
      "execution_count": 19,
      "outputs": [
        {
          "output_type": "stream",
          "name": "stdout",
          "text": [
            "você é maior de idade!\n"
          ]
        }
      ]
    },
    {
      "cell_type": "code",
      "source": [
        "# Condição IF + ELSE\n",
        "\n",
        "Idade = int( 15 )\n",
        "\n",
        "if Idade >= 18:\n",
        "  print('Você é de maior!')\n",
        "\n",
        "else:\n",
        "  print('Você é menor de Idade!!! gugudada')"
      ],
      "metadata": {
        "colab": {
          "base_uri": "https://localhost:8080/"
        },
        "id": "4iXRttnPWCEW",
        "outputId": "a938a7df-8dc7-45eb-c8ad-7e34ef2022f7"
      },
      "execution_count": 20,
      "outputs": [
        {
          "output_type": "stream",
          "name": "stdout",
          "text": [
            "Você é menor de Idade!!! gugudada\n"
          ]
        }
      ]
    },
    {
      "cell_type": "code",
      "source": [
        "# Condição IF + ELSE + ELIF\n",
        "\n",
        "Idade = int( 14 )\n",
        "\n",
        "if Idade > 18:\n",
        "  print('Você é de maior!')\n",
        "\n",
        "elif Idade == 18:\n",
        "  print('Opa! Welcome the jungle!!! ')\n",
        "\n",
        "elif Idade < 18 and Idade >= 14:\n",
        "\n",
        "  if Idade % 2 == 0:\n",
        "    print('Quase um adulto!!! Aproveita !!!!!!!!!!')\n",
        "\n",
        "else:\n",
        "  print('Você é menor de Idade!!! gugudada')"
      ],
      "metadata": {
        "colab": {
          "base_uri": "https://localhost:8080/"
        },
        "id": "czJ4Rw7MWD7m",
        "outputId": "ed06e9a2-f370-4e7f-80c3-4a86515a4f7c"
      },
      "execution_count": 21,
      "outputs": [
        {
          "output_type": "stream",
          "name": "stdout",
          "text": [
            "Quase um adulto!!! Aproveita !!!!!!!!!!\n"
          ]
        }
      ]
    },
    {
      "cell_type": "markdown",
      "source": [
        "## **23. - Estrutura de Loop FOR**"
      ],
      "metadata": {
        "id": "BVjakNk_WHGe"
      }
    },
    {
      "cell_type": "markdown",
      "source": [
        "###O loop For do Python é usado para travessia seqüencial, ou seja, é usado para iterar sobre um iterável como string, tupla, lista, etc. Ele se enquadra na categoria de iteração definida . Iterações definidas significam que o número de repetições é especificado explicitamente com antecedência. <p>\n",
        "for variável in objeto:\n",
        "*   loop\n"
      ],
      "metadata": {
        "id": "QoEAXrerWOoW"
      }
    },
    {
      "cell_type": "code",
      "source": [
        "# For [ Loop ]\n",
        "for QualquerCoisaQueVoceQuiser in range(10):\n",
        "  print( QualquerCoisaQueVoceQuiser ** 2  )"
      ],
      "metadata": {
        "colab": {
          "base_uri": "https://localhost:8080/"
        },
        "id": "VvP22ABNWUu1",
        "outputId": "fcc538b4-8c8a-45aa-ac0b-6d11ed1c0529"
      },
      "execution_count": 22,
      "outputs": [
        {
          "output_type": "stream",
          "name": "stdout",
          "text": [
            "0\n",
            "1\n",
            "4\n",
            "9\n",
            "16\n",
            "25\n",
            "36\n",
            "49\n",
            "64\n",
            "81\n"
          ]
        }
      ]
    },
    {
      "cell_type": "code",
      "source": [
        "# For + Lista\n",
        "\n",
        "Lista_Paises = ['Brasil', 'Argentina', 'Uruguai', 'Chile', 'Paraguai', 'Bolivia', 'Equador',\n",
        "                'Colombia', 'Suriname', 'Guiane', 'Goianai France']\n",
        "\n",
        "for Loop in Lista_Paises:\n",
        "  print( Loop )"
      ],
      "metadata": {
        "colab": {
          "base_uri": "https://localhost:8080/"
        },
        "id": "EY-RWwubWd61",
        "outputId": "2de9cea8-579b-4fad-8a85-bf3bdbc06d4d"
      },
      "execution_count": 23,
      "outputs": [
        {
          "output_type": "stream",
          "name": "stdout",
          "text": [
            "Brasil\n",
            "Argentina\n",
            "Uruguai\n",
            "Chile\n",
            "Paraguai\n",
            "Bolivia\n",
            "Equador\n",
            "Colombia\n",
            "Suriname\n",
            "Guiane\n",
            "Goianai France\n"
          ]
        }
      ]
    },
    {
      "cell_type": "code",
      "source": [
        "# For + Lista\n",
        "Lista_Paises = ['Brasil', 'Argentina', 'Uruguai', 'Chile', 'Paraguai', 'Bolivia',\n",
        "                'Equador', 'Colombia', 'Suriname, Guiane, Goianai France']\n",
        "\n",
        "for Loop in range( len(Lista_Paises) ):\n",
        "  print( Lista_Paises[Loop] )"
      ],
      "metadata": {
        "colab": {
          "base_uri": "https://localhost:8080/"
        },
        "id": "GGazc9BsWeiW",
        "outputId": "979148a8-b4b1-4888-87a1-5a076002185d"
      },
      "execution_count": 24,
      "outputs": [
        {
          "output_type": "stream",
          "name": "stdout",
          "text": [
            "Brasil\n",
            "Argentina\n",
            "Uruguai\n",
            "Chile\n",
            "Paraguai\n",
            "Bolivia\n",
            "Equador\n",
            "Colombia\n",
            "Suriname, Guiane, Goianai France\n"
          ]
        }
      ]
    },
    {
      "cell_type": "code",
      "source": [
        "# For + Lista + IF + enumerate\n",
        "for Posicao, P in enumerate( Lista_Paises ):\n",
        "  print( Posicao / 4 , P )"
      ],
      "metadata": {
        "colab": {
          "base_uri": "https://localhost:8080/"
        },
        "id": "buPIIUsOWn7e",
        "outputId": "e7875782-00a1-4348-9787-98c96ef84213"
      },
      "execution_count": 25,
      "outputs": [
        {
          "output_type": "stream",
          "name": "stdout",
          "text": [
            "0.0 Brasil\n",
            "0.25 Argentina\n",
            "0.5 Uruguai\n",
            "0.75 Chile\n",
            "1.0 Paraguai\n",
            "1.25 Bolivia\n",
            "1.5 Equador\n",
            "1.75 Colombia\n",
            "2.0 Suriname, Guiane, Goianai France\n"
          ]
        }
      ]
    },
    {
      "cell_type": "code",
      "source": [
        "# for + LISTa + IF + RANGE\n",
        "Lista_Numerica = [ Numero for Numero in range(1, 100, 5) ]\n",
        "Armazenar = []\n",
        "\n",
        "for x in Lista_Numerica:\n",
        "\n",
        "  if x % 2 == 0:\n",
        "    Armazenar.append( x )\n",
        "\n",
        "print( Armazenar )\n",
        "\n",
        "from pandas import DataFrame\n",
        "print( DataFrame(Armazenar) )"
      ],
      "metadata": {
        "colab": {
          "base_uri": "https://localhost:8080/"
        },
        "id": "ydIuYc4GW04_",
        "outputId": "bfd87618-6213-477c-88d4-3e805ea6e885"
      },
      "execution_count": 26,
      "outputs": [
        {
          "output_type": "stream",
          "name": "stdout",
          "text": [
            "[6, 16, 26, 36, 46, 56, 66, 76, 86, 96]\n",
            "    0\n",
            "0   6\n",
            "1  16\n",
            "2  26\n",
            "3  36\n",
            "4  46\n",
            "5  56\n",
            "6  66\n",
            "7  76\n",
            "8  86\n",
            "9  96\n"
          ]
        }
      ]
    },
    {
      "cell_type": "code",
      "source": [
        "# For + Lista + Dicionario\n",
        "\n",
        "Lista = [ 'Brasil', 'Argentina', 'Uruaguai', 'Paraguai' ]\n",
        "\n",
        "Dicionario = {\n",
        "    'Brasil' : 'Real',\n",
        "    'Argentina' : 'Peso ARG',\n",
        "    'Uruaguai' : 'Peso URU',\n",
        "    'Paraguai' : 'Guarany'\n",
        "}\n",
        "\n",
        "for Paises in Lista:\n",
        "\n",
        "  if Paises == 'Brasil':\n",
        "    print( f'Moeda do {Paises} é { Dicionario[Paises] }' )\n",
        "    print('Mooeda do', Paises, 'é', Dicionario[Paises] )\n",
        "    print('Mooeda do ' + str (Paises) + ' é ' + str(Dicionario[Paises] ) )\n",
        "  else:\n",
        "    pass"
      ],
      "metadata": {
        "colab": {
          "base_uri": "https://localhost:8080/"
        },
        "id": "i4EXa5PEW5A_",
        "outputId": "dafee773-3e15-4235-82ff-74e2508f0757"
      },
      "execution_count": 27,
      "outputs": [
        {
          "output_type": "stream",
          "name": "stdout",
          "text": [
            "Moeda do Brasil é Real\n",
            "Mooeda do Brasil é Real\n",
            "Mooeda do Brasil é Real\n"
          ]
        }
      ]
    },
    {
      "cell_type": "markdown",
      "source": [
        "## **24. - Estrutura de Loop WHILE**"
      ],
      "metadata": {
        "id": "z-bqMkCgW9FT"
      }
    },
    {
      "cell_type": "markdown",
      "source": [
        "###Python While Loop é usado para executar um bloco de instruções repetidamente até que uma determinada condição seja satisfeita. E quando a condição se torna falsa, a linha imediatamente após o loop no programa é executada. While loop se enquadra na categoria de iteração indefinida . A iteração indefinida significa que o número de vezes que o loop é executado não é especificado explicitamente com antecedência.<p>\n",
        "while expressão:\n",
        "*   loop\n",
        "\n"
      ],
      "metadata": {
        "id": "Ugi5c9o_XA0W"
      }
    },
    {
      "cell_type": "code",
      "source": [
        "# While\n",
        "Loop = 0\n",
        "\n",
        "while Loop <= 10:\n",
        "  print( Loop )\n",
        "  Loop += 1"
      ],
      "metadata": {
        "colab": {
          "base_uri": "https://localhost:8080/"
        },
        "id": "M3o_6i5OXLMV",
        "outputId": "fee16d16-169a-49a0-e103-0a06a67ea272"
      },
      "execution_count": 29,
      "outputs": [
        {
          "output_type": "stream",
          "name": "stdout",
          "text": [
            "0\n",
            "1\n",
            "2\n",
            "3\n",
            "4\n",
            "5\n",
            "6\n",
            "7\n",
            "8\n",
            "9\n",
            "10\n"
          ]
        }
      ]
    },
    {
      "cell_type": "code",
      "source": [
        "# While\n",
        "Loop = 0\n",
        "\n",
        "while Loop <= 10:\n",
        "  print( Loop )\n",
        "  Loop += 1\n",
        "\n",
        "  if Loop == 5:\n",
        "\n",
        "    for c in range(10):\n",
        "      print(c)"
      ],
      "metadata": {
        "colab": {
          "base_uri": "https://localhost:8080/"
        },
        "id": "qA8ojMJkXOt2",
        "outputId": "369f6fdb-f8da-45da-9336-7363cf1edb9a"
      },
      "execution_count": 30,
      "outputs": [
        {
          "output_type": "stream",
          "name": "stdout",
          "text": [
            "0\n",
            "1\n",
            "2\n",
            "3\n",
            "4\n",
            "0\n",
            "1\n",
            "2\n",
            "3\n",
            "4\n",
            "5\n",
            "6\n",
            "7\n",
            "8\n",
            "9\n",
            "5\n",
            "6\n",
            "7\n",
            "8\n",
            "9\n",
            "10\n"
          ]
        }
      ]
    },
    {
      "cell_type": "code",
      "source": [
        "# While True\n",
        "# Joginho\n",
        "import random\n",
        "\n",
        "while True:\n",
        "\n",
        "  Jogador1 = random.randint(0, 6)\n",
        "  Jogador2 = random.randint(5, 10)\n",
        "\n",
        "  if Jogador1 > Jogador2:\n",
        "    print(Jogador1, '-', Jogador2, 'FINALMENTE !!!!!!!!!!!')\n",
        "    break\n",
        "\n",
        "  else:\n",
        "    print(Jogador1, '-', Jogador2)"
      ],
      "metadata": {
        "colab": {
          "base_uri": "https://localhost:8080/"
        },
        "id": "-6AspuCAXVn2",
        "outputId": "01be4a1f-0024-40f6-94c0-48c7046c8633"
      },
      "execution_count": 31,
      "outputs": [
        {
          "output_type": "stream",
          "name": "stdout",
          "text": [
            "0 - 5\n",
            "3 - 8\n",
            "4 - 5\n",
            "0 - 9\n",
            "2 - 8\n",
            "6 - 7\n",
            "3 - 10\n",
            "1 - 9\n",
            "5 - 7\n",
            "1 - 8\n",
            "6 - 10\n",
            "2 - 6\n",
            "6 - 5 FINALMENTE !!!!!!!!!!!\n"
          ]
        }
      ]
    },
    {
      "cell_type": "markdown",
      "source": [
        "## **25. - Estrutura de Quebra BREAK e CONTINUE**"
      ],
      "metadata": {
        "id": "HH1pnWjPXoTn"
      }
    },
    {
      "cell_type": "markdown",
      "source": [
        "###O uso de loops no Python automatiza e repete as tarefas de maneira eficiente. Mas, às vezes, pode surgir uma condição em que você deseja sair completamente do loop, pular uma iteração ou ignorar essa condição. Isso pode ser feito por instruções de controle de loop . As instruções de controle de loop alteram a execução de sua sequência normal. Quando a execução sai de um escopo, todos os objetos automáticos que foram criados nesse escopo são destruídos. Python suporta as seguintes instruções de controle."
      ],
      "metadata": {
        "id": "XemtnhJEXv7m"
      }
    },
    {
      "cell_type": "code",
      "source": [
        "# For + Lista + IF + Break\n",
        "Lista_Paises = ['Brasil', 'Argentina', 'Uruguai', 'Chile', 'Paraguai', 'Bolivia',\n",
        "                'Equador', 'Colombia', 'Suriname, Guiane, Goianai France']\n",
        "Loop = 0\n",
        "\n",
        "for P in Lista_Paises:\n",
        "\n",
        "  if P == 'Chile':\n",
        "    print('Chegou')\n",
        "    break\n",
        "\n",
        "  else:\n",
        "    pass\n",
        "\n",
        "  Loop += 1\n",
        "  print( Loop )"
      ],
      "metadata": {
        "colab": {
          "base_uri": "https://localhost:8080/"
        },
        "id": "b_dgYzPaXzUf",
        "outputId": "91c9e8b7-ec0d-49d1-b758-fe183a514b43"
      },
      "execution_count": 32,
      "outputs": [
        {
          "output_type": "stream",
          "name": "stdout",
          "text": [
            "1\n",
            "2\n",
            "3\n",
            "Chegou\n"
          ]
        }
      ]
    },
    {
      "cell_type": "code",
      "source": [
        "# While\n",
        "Loop = 0\n",
        "\n",
        "while Loop <= 10:\n",
        "  print( Loop )\n",
        "  Loop += 1\n",
        "\n",
        "  if Loop == 5:\n",
        "\n",
        "    for c in range(10):\n",
        "      print(c)\n",
        "\n",
        "    break"
      ],
      "metadata": {
        "colab": {
          "base_uri": "https://localhost:8080/"
        },
        "id": "eVkMYtDYX21v",
        "outputId": "f6f9a7ad-63d9-473b-869e-c4026a752983"
      },
      "execution_count": 33,
      "outputs": [
        {
          "output_type": "stream",
          "name": "stdout",
          "text": [
            "0\n",
            "1\n",
            "2\n",
            "3\n",
            "4\n",
            "0\n",
            "1\n",
            "2\n",
            "3\n",
            "4\n",
            "5\n",
            "6\n",
            "7\n",
            "8\n",
            "9\n"
          ]
        }
      ]
    },
    {
      "cell_type": "code",
      "source": [
        "# Loop de 1 a 10\n",
        "for i in range(1, 11):\n",
        "\n",
        "    # If i is equals to 6,\n",
        "    # continue to next iteration\n",
        "    # without printing\n",
        "    if i == 5:\n",
        "      continue\n",
        "      print(f'{i}º interação --> Estou no IF')\n",
        "\n",
        "    else:\n",
        "        # otherwise print the value\n",
        "        # of i\n",
        "        print(f'{i}º Continue continua sempre!!!!')\n",
        "        #print(i)"
      ],
      "metadata": {
        "colab": {
          "base_uri": "https://localhost:8080/"
        },
        "id": "Pc3ut6JnX9J3",
        "outputId": "7f5374aa-07d8-4961-a9c6-97b746fe73d1"
      },
      "execution_count": 34,
      "outputs": [
        {
          "output_type": "stream",
          "name": "stdout",
          "text": [
            "1º Continue continua sempre!!!!\n",
            "2º Continue continua sempre!!!!\n",
            "3º Continue continua sempre!!!!\n",
            "4º Continue continua sempre!!!!\n",
            "6º Continue continua sempre!!!!\n",
            "7º Continue continua sempre!!!!\n",
            "8º Continue continua sempre!!!!\n",
            "9º Continue continua sempre!!!!\n",
            "10º Continue continua sempre!!!!\n"
          ]
        }
      ]
    },
    {
      "cell_type": "markdown",
      "source": [
        "## **26. - Estrutura de Funções**"
      ],
      "metadata": {
        "id": "-Gf5iMDcYMQu"
      }
    },
    {
      "cell_type": "markdown",
      "source": [
        "###Uma função é um bloco de código que só é executado quando é chamado.\n",
        "Você pode passar dados, conhecidos como parâmetros, para uma função.\n",
        "Uma função pode retornar dados como resultado.\n"
      ],
      "metadata": {
        "id": "hyXI2EKsYmbm"
      }
    },
    {
      "cell_type": "code",
      "source": [
        "# Funções simples\n",
        "def Somar(Valor1, Valor2):\n",
        "  Soma = Valor1 + Valor2\n",
        "  print(Soma)\n",
        "\n",
        "Somar(-67.900, 10.121233)"
      ],
      "metadata": {
        "colab": {
          "base_uri": "https://localhost:8080/"
        },
        "id": "o4KyYK4kZDp2",
        "outputId": "9dc7507e-3dbb-4f33-b6db-aa1bee15d220"
      },
      "execution_count": 35,
      "outputs": [
        {
          "output_type": "stream",
          "name": "stdout",
          "text": [
            "-57.778767\n"
          ]
        }
      ]
    },
    {
      "cell_type": "code",
      "source": [
        "def Boas_Vindas():\n",
        "  print('********* PYTHON **************')\n",
        "\n",
        "Boas_Vindas()"
      ],
      "metadata": {
        "colab": {
          "base_uri": "https://localhost:8080/"
        },
        "id": "hcNbj38BZPoP",
        "outputId": "da563389-ea5c-4458-b9d9-50a08fc254b9"
      },
      "execution_count": 36,
      "outputs": [
        {
          "output_type": "stream",
          "name": "stdout",
          "text": [
            "********* PYTHON **************\n"
          ]
        }
      ]
    },
    {
      "cell_type": "code",
      "source": [
        "from random import randint\n",
        "# Função\n",
        "def Sobrenome( Algum_Texto, Numero ):\n",
        "  print(f'Nome dele é: {Algum_Texto}')\n",
        "\n",
        "  if Numero >= 10:\n",
        "    print('Maior que 10')\n",
        "  else:\n",
        "    print('NADA!')\n",
        "\n",
        "Lista_Nomes = ['Thiago', 'Luigi', 'Mariana']\n",
        "\n",
        "for Nome in Lista_Nomes:\n",
        "  Sobrenome( Nome, randint(1,12) )"
      ],
      "metadata": {
        "colab": {
          "base_uri": "https://localhost:8080/"
        },
        "id": "vrzK82EmZW_p",
        "outputId": "1ef1031d-f659-4f02-fa41-3eb3aa4a2328"
      },
      "execution_count": 41,
      "outputs": [
        {
          "output_type": "stream",
          "name": "stdout",
          "text": [
            "Nome dele é: Thiago\n",
            "Maior que 10\n",
            "Nome dele é: Luigi\n",
            "NADA!\n",
            "Nome dele é: Mariana\n",
            "Maior que 10\n"
          ]
        }
      ]
    },
    {
      "cell_type": "markdown",
      "source": [
        "## **27. - Estrutura Lambda**"
      ],
      "metadata": {
        "id": "zGDrtd4lZcLe"
      }
    },
    {
      "cell_type": "markdown",
      "source": [
        "###Uma função lambda é uma pequena função anônima.\n",
        "Uma função lambda pode receber qualquer número de argumentos, mas pode ter apenas uma expressão."
      ],
      "metadata": {
        "id": "P7hQI3M0Zre2"
      }
    },
    {
      "cell_type": "code",
      "source": [
        "# Função\n",
        "Funcao = lambda valor: valor + 10\n",
        "print( Funcao( 10 ) )\n",
        "\n",
        "Funcao_02 = lambda valor1, valor2 : valor1 + valor2\n",
        "print( Funcao_02( 100 , 100 ) )"
      ],
      "metadata": {
        "colab": {
          "base_uri": "https://localhost:8080/"
        },
        "id": "Z10ZJ9OdZv9G",
        "outputId": "84bd45d0-2dfd-478a-842d-bbc128a04f20"
      },
      "execution_count": 42,
      "outputs": [
        {
          "output_type": "stream",
          "name": "stdout",
          "text": [
            "20\n",
            "200\n"
          ]
        }
      ]
    },
    {
      "cell_type": "code",
      "source": [
        "funcao3 = lambda x, y : math.sqrt((x**2)+(y**2))\n",
        "print(funcao3(3,4))"
      ],
      "metadata": {
        "colab": {
          "base_uri": "https://localhost:8080/"
        },
        "id": "XsOk1IHTZ-3b",
        "outputId": "8785df59-7d11-46b4-9cd9-56a707570dbb"
      },
      "execution_count": 45,
      "outputs": [
        {
          "output_type": "stream",
          "name": "stdout",
          "text": [
            "5.0\n"
          ]
        }
      ]
    },
    {
      "cell_type": "markdown",
      "source": [
        "## **28. - Estrutura TRY**\n"
      ],
      "metadata": {
        "id": "A1jh1dIGad8G"
      }
    },
    {
      "cell_type": "markdown",
      "source": [
        "###O **try** permite testar um bloco de código quanto a erros.<p>\n",
        "O **except** permite que você lide com o erro.<p>\n",
        "O **else** permite executar código quando não há erro. <p>\n",
        "O **finally** permite que você execute código, independentemente do resultado dos blocos try e except. <p>\n"
      ],
      "metadata": {
        "id": "nsdz80ZVbEbf"
      }
    },
    {
      "cell_type": "code",
      "source": [],
      "metadata": {
        "colab": {
          "base_uri": "https://localhost:8080/"
        },
        "id": "L3FNWj8dbJFu",
        "outputId": "4821f686-f4db-4abc-8aa9-d7e07638ef34"
      },
      "execution_count": 47,
      "outputs": [
        {
          "output_type": "stream",
          "name": "stdout",
          "text": [
            "Deu Ruim!!!\n"
          ]
        }
      ]
    },
    {
      "cell_type": "code",
      "source": [
        "try:\n",
        "  print(Algo_Coisa_Que_Nao_Defini)\n",
        "\n",
        "except NameError:\n",
        "  print(\"Ops deu algum erro!\")\n",
        "\n",
        "finally:\n",
        "  print(\"Vou ser executado de qualquer forma\")"
      ],
      "metadata": {
        "colab": {
          "base_uri": "https://localhost:8080/"
        },
        "id": "acwxViibbPME",
        "outputId": "e101495d-6675-41f6-b6f7-c40f31514dc4"
      },
      "execution_count": 48,
      "outputs": [
        {
          "output_type": "stream",
          "name": "stdout",
          "text": [
            "Ops deu algum erro!\n",
            "Vou ser executado de qualquer forma\n"
          ]
        }
      ]
    },
    {
      "cell_type": "markdown",
      "source": [
        "## **29. - Estrutura de Classes/Objetos**"
      ],
      "metadata": {
        "id": "fJa5xyynbPcZ"
      }
    },
    {
      "cell_type": "markdown",
      "source": [
        "###Python é uma linguagem de programação orientada a objetos.<p>\n",
        "Quase tudo em Python é um objeto, com suas propriedades e métodos.<p>\n",
        "Uma classe é como um construtor de objetos, ou um \"projeto\" para criar objetos."
      ],
      "metadata": {
        "id": "7AZ7jN9PbXK9"
      }
    },
    {
      "cell_type": "code",
      "source": [
        "class Pessoa:\n",
        "\n",
        "  # Metodo Construtor\n",
        "  def __init__(self, Nome, Idade):\n",
        "    self.Nome = Nome\n",
        "    self.Idade = Idade\n",
        "\n",
        "  def Boas_Vindas(self):\n",
        "    print('Olá sem benvindo: ', self.Nome)\n",
        "\n",
        "  def Recusado(self):\n",
        "    print('Seu acesso foi recusado!')\n",
        "\n",
        "  # Função\n",
        "  def Maior_Idade(self):\n",
        "    if self.Idade >= 18:\n",
        "      print('Usuário é maior de idade')\n",
        "      self.Boas_Vindas()\n",
        "    else:\n",
        "      print('Usuário é menor de Idade')\n",
        "      self.Recusado()"
      ],
      "metadata": {
        "id": "uolpcPa_bafm"
      },
      "execution_count": 49,
      "outputs": []
    },
    {
      "cell_type": "code",
      "source": [
        "Dados = Pessoa('Thiago', 36)"
      ],
      "metadata": {
        "id": "HQKn_BvRbnzH"
      },
      "execution_count": 52,
      "outputs": []
    },
    {
      "cell_type": "code",
      "source": [
        "Dados.Maior_Idade()"
      ],
      "metadata": {
        "colab": {
          "base_uri": "https://localhost:8080/"
        },
        "id": "G7sZc8qSbx1u",
        "outputId": "e0152029-a187-46d0-a280-b33c311a45e8"
      },
      "execution_count": 53,
      "outputs": [
        {
          "output_type": "stream",
          "name": "stdout",
          "text": [
            "Usuário é maior de idade\n",
            "Olá sem benvindo:  Thiago\n"
          ]
        }
      ]
    },
    {
      "cell_type": "markdown",
      "source": [
        "## **30. - Módulos/Pacotes**"
      ],
      "metadata": {
        "id": "kNcjAjQ6b7IH"
      }
    },
    {
      "cell_type": "markdown",
      "source": [
        "###Considere um módulo como sendo o mesmo que uma biblioteca de código.<p>\n",
        "Para instalar um pacote utilize o 'pip install'"
      ],
      "metadata": {
        "id": "-IiFdCDGcbzY"
      }
    },
    {
      "cell_type": "code",
      "source": [
        "# !pip install pandas\n",
        "!pip install pandas"
      ],
      "metadata": {
        "colab": {
          "base_uri": "https://localhost:8080/"
        },
        "id": "OY5kL4fVchQm",
        "outputId": "d8dc0d7d-b2e3-4879-efdb-6321a762068f"
      },
      "execution_count": 55,
      "outputs": [
        {
          "output_type": "stream",
          "name": "stdout",
          "text": [
            "Requirement already satisfied: pandas in /usr/local/lib/python3.10/dist-packages (1.5.3)\n",
            "Requirement already satisfied: python-dateutil>=2.8.1 in /usr/local/lib/python3.10/dist-packages (from pandas) (2.8.2)\n",
            "Requirement already satisfied: pytz>=2020.1 in /usr/local/lib/python3.10/dist-packages (from pandas) (2023.4)\n",
            "Requirement already satisfied: numpy>=1.21.0 in /usr/local/lib/python3.10/dist-packages (from pandas) (1.25.2)\n",
            "Requirement already satisfied: six>=1.5 in /usr/local/lib/python3.10/dist-packages (from python-dateutil>=2.8.1->pandas) (1.16.0)\n"
          ]
        }
      ]
    },
    {
      "cell_type": "markdown",
      "source": [
        "## **31. - Print formatado**"
      ],
      "metadata": {
        "id": "_pcGcExYcmpX"
      }
    },
    {
      "cell_type": "markdown",
      "source": [
        "###Existe diversas formas de utilizar prints no python"
      ],
      "metadata": {
        "id": "m9liL7IUcua2"
      }
    },
    {
      "cell_type": "code",
      "source": [
        "print('Soma de 2 + 2 é:', 2 + 2 )"
      ],
      "metadata": {
        "colab": {
          "base_uri": "https://localhost:8080/"
        },
        "id": "Ga5h5eOOcxHu",
        "outputId": "5f96dd64-fbfd-4d5b-83fe-c1ded34e888d"
      },
      "execution_count": 56,
      "outputs": [
        {
          "output_type": "stream",
          "name": "stdout",
          "text": [
            "Soma de 2 + 2 é: 4\n"
          ]
        }
      ]
    },
    {
      "cell_type": "code",
      "source": [
        "print( f'Soma de 2 + 2 é: { round(2 + 2) }' )"
      ],
      "metadata": {
        "colab": {
          "base_uri": "https://localhost:8080/"
        },
        "id": "UFaMPGI_czVe",
        "outputId": "82e27c5a-055e-4cd9-efd8-21927fe78595"
      },
      "execution_count": 57,
      "outputs": [
        {
          "output_type": "stream",
          "name": "stdout",
          "text": [
            "Soma de 2 + 2 é: 4\n"
          ]
        }
      ]
    },
    {
      "cell_type": "code",
      "source": [
        "print('Soma de 2 + 2 é: {}'.format(2+2) )"
      ],
      "metadata": {
        "colab": {
          "base_uri": "https://localhost:8080/"
        },
        "id": "hw_PSedOc2f3",
        "outputId": "de27d38f-86aa-4356-a89c-c1b5588c61d9"
      },
      "execution_count": 58,
      "outputs": [
        {
          "output_type": "stream",
          "name": "stdout",
          "text": [
            "Soma de 2 + 2 é: 4\n"
          ]
        }
      ]
    },
    {
      "cell_type": "markdown",
      "source": [
        "## **Exercicios de Python para resolver!**"
      ],
      "metadata": {
        "id": "nfDWBFaLdG5Y"
      }
    },
    {
      "cell_type": "markdown",
      "source": [
        "###1ª Exercício\n",
        "Escreva um programa que mostre a mensagem 'Hello World!' na tela."
      ],
      "metadata": {
        "id": "VUlW3rXhdZlz"
      }
    },
    {
      "cell_type": "code",
      "source": [
        "print(\"Hello world\")"
      ],
      "metadata": {
        "colab": {
          "base_uri": "https://localhost:8080/"
        },
        "id": "Gm52LoQhdJEG",
        "outputId": "b97c84c5-1426-472c-cb38-7ab950199d83"
      },
      "execution_count": 59,
      "outputs": [
        {
          "output_type": "stream",
          "name": "stdout",
          "text": [
            "Hello world\n"
          ]
        }
      ]
    },
    {
      "cell_type": "markdown",
      "source": [
        "###2ª Exercício\n",
        "Faça um programa que solicite um número do usuário e apresente a seguinte mensagem na tela:\n",
        "\n",
        "\"O número digitado foi [número]\"."
      ],
      "metadata": {
        "id": "uoa162HOdL3H"
      }
    },
    {
      "cell_type": "code",
      "source": [
        "valor = input(\"Digite um número: \")\n",
        "print(f'O valor digitado foi {valor}.')"
      ],
      "metadata": {
        "colab": {
          "base_uri": "https://localhost:8080/"
        },
        "id": "n-1iWt6Vdrcf",
        "outputId": "b4f3e6e6-21c6-416f-ab92-623231605824"
      },
      "execution_count": 62,
      "outputs": [
        {
          "output_type": "stream",
          "name": "stdout",
          "text": [
            "Digite um número: 10\n",
            "O valor digitado foi 10.\n"
          ]
        }
      ]
    },
    {
      "cell_type": "markdown",
      "source": [
        "### 3ª Exercício\n",
        "Escreva um programa que solicite o nome e o sobrenome do usuário. Ao final o programa deverá apresentar o nome completo do usuário na tela."
      ],
      "metadata": {
        "id": "vu1nG1nHd5Tu"
      }
    },
    {
      "cell_type": "code",
      "source": [
        "nome = input(\"Informe o primeiro nome: \").strip().title()\n",
        "sobrenome = input(\"Informe o sobrenome: \").strip().title()\n",
        "print(f\"nome completo: {nome} {sobrenome}\")"
      ],
      "metadata": {
        "colab": {
          "base_uri": "https://localhost:8080/"
        },
        "id": "TO3WbOJreKuZ",
        "outputId": "e8b2f7ac-5326-4551-a355-db295d433bdb"
      },
      "execution_count": 65,
      "outputs": [
        {
          "output_type": "stream",
          "name": "stdout",
          "text": [
            "Informe o primeiro nome: thiago\n",
            "Informe o sobrenome: baRbosA\n",
            "nome completo: Thiago Barbosa\n"
          ]
        }
      ]
    },
    {
      "cell_type": "markdown",
      "source": [
        "### 4ª Exercício\n",
        "Faça um programa que solicite três números inteiros do usuário e imprima a soma destes."
      ],
      "metadata": {
        "id": "EkVJCylAefu_"
      }
    },
    {
      "cell_type": "code",
      "source": [
        "num1=int(input('Número 1: '))\n",
        "num2=int(input('Número 2: '))\n",
        "num3=int(input('Número 3: '))\n",
        "print(f'{num1}+{num2}+{num3}={num1+num2+num3}')"
      ],
      "metadata": {
        "colab": {
          "base_uri": "https://localhost:8080/"
        },
        "id": "VacUGdzNfT2H",
        "outputId": "3c68e238-ebe6-4a42-a177-1612a9ef1a81"
      },
      "execution_count": 66,
      "outputs": [
        {
          "output_type": "stream",
          "name": "stdout",
          "text": [
            "Número 1: 4\n",
            "Número 2: 5\n",
            "Número 3: 6\n",
            "4+5+6=15\n"
          ]
        }
      ]
    },
    {
      "cell_type": "markdown",
      "source": [
        "###5ª Exercício\n",
        "Escreva um programa que solicite duas notas do usuário e apresente a média na tela da seguinte forma:\n",
        "\n",
        "\"A média das notas [nota1] e [nota2] é [média]\""
      ],
      "metadata": {
        "id": "Ywe5p0M-fVdH"
      }
    },
    {
      "cell_type": "code",
      "source": [
        "nota1=float(input('Nota 1: \\n'))\n",
        "nota2=float(input('Nota 2: \\n'))\n",
        "media=(nota1+nota2)/2\n",
        "print(f'A média das notas {nota1} e {nota2} é {media}')"
      ],
      "metadata": {
        "colab": {
          "base_uri": "https://localhost:8080/"
        },
        "id": "UcnaOeN-fdDm",
        "outputId": "f70a4280-96c1-4f4f-f177-3d7ee77521cd"
      },
      "execution_count": 67,
      "outputs": [
        {
          "output_type": "stream",
          "name": "stdout",
          "text": [
            "Nota 1: \n",
            "8\n",
            "Nota 2: \n",
            "9\n",
            "A média das notas 8.0 e 9.0 é 8.5\n"
          ]
        }
      ]
    },
    {
      "cell_type": "markdown",
      "source": [
        "###6ª Exercício\n",
        "Faça um programa que calcule a raiz quadrada de um número. O usuário deve inserir um número e o programa deve mostrar na tela o resultado da raiz quadrada do número inserido."
      ],
      "metadata": {
        "id": "2CpI7dBsfemn"
      }
    },
    {
      "cell_type": "code",
      "source": [
        "num=float(input('Digite um número: '))\n",
        "print(f'A raiz quadrada de {num} é {num**(1/2)}')"
      ],
      "metadata": {
        "colab": {
          "base_uri": "https://localhost:8080/"
        },
        "id": "EU0Vf9BdfsNe",
        "outputId": "88b79254-2537-44ae-a3cc-053f85a915bd"
      },
      "execution_count": 68,
      "outputs": [
        {
          "output_type": "stream",
          "name": "stdout",
          "text": [
            "Digite um número: 25\n",
            "A raiz quadrada de 25.0 é 5.0\n"
          ]
        }
      ]
    },
    {
      "cell_type": "markdown",
      "source": [
        "###7ª Exercício\n",
        "Faça um programa que peça 5 números de ponto flutuante do usuário e apresente no final a média dos números digitados."
      ],
      "metadata": {
        "id": "2_IxQt2yfs52"
      }
    },
    {
      "cell_type": "code",
      "source": [
        "num1=float(input('Número 1: '))\n",
        "num2=float(input('Número 2: '))\n",
        "num3=float(input('Número 3: '))\n",
        "num4=float(input('Número 4: '))\n",
        "num5=float(input('Número 5: '))\n",
        "media=(num1+num2+num3+num4+num5)/5\n",
        "print(f'Média: {media}')"
      ],
      "metadata": {
        "colab": {
          "base_uri": "https://localhost:8080/"
        },
        "id": "QNx9Yevof1Pe",
        "outputId": "8820e047-331a-49e5-e393-cee99e9f679c"
      },
      "execution_count": 69,
      "outputs": [
        {
          "output_type": "stream",
          "name": "stdout",
          "text": [
            "Número 1: 5.5\n",
            "Número 2: 6.3\n",
            "Número 3: 8.8\n",
            "Número 4: 9.4\n",
            "Número 5: 1.6\n",
            "Média: 6.32\n"
          ]
        }
      ]
    },
    {
      "cell_type": "markdown",
      "source": [
        "###8ª Exercício\n",
        "Escreva um programa que faça a conversão de um dado valor de metro para quilômetro"
      ],
      "metadata": {
        "id": "aHVxvZxFf2AO"
      }
    },
    {
      "cell_type": "code",
      "source": [
        "num=float(input('Digite um valor em metros: '))\n",
        "print(f'{num} metros equivale a {num/1000} km')"
      ],
      "metadata": {
        "colab": {
          "base_uri": "https://localhost:8080/"
        },
        "id": "Gfuc_KtcgK5B",
        "outputId": "159480fe-8697-4b37-ba3c-756b8ac9b1c5"
      },
      "execution_count": 70,
      "outputs": [
        {
          "output_type": "stream",
          "name": "stdout",
          "text": [
            "Digite um valor em metros: 200\n",
            "200.0 metros equivale a 0.2 km\n"
          ]
        }
      ]
    },
    {
      "cell_type": "markdown",
      "source": [
        "###9ª Exercício\n",
        "Escreva um programa que calcule a área de uma circunferência. O usuário deve digitar o valor do raio e ao final o programa deverá mostrar na tela a área da circunferência.\n",
        "\n",
        "Use a fórmula: área=pi*r² , em que pi é uma constante e r o raio da circunferência.\n",
        "\n",
        "Dica: você pode usar a biblioteca math para pegar a constante pi."
      ],
      "metadata": {
        "id": "LKG5v-EDgMWe"
      }
    },
    {
      "cell_type": "code",
      "source": [
        "from math import pi\n",
        "raio=float(input('Digite o valor do raio da circunferência: '))\n",
        "print(f'Área da circunferência: {pi*raio**2:.2f}')"
      ],
      "metadata": {
        "colab": {
          "base_uri": "https://localhost:8080/"
        },
        "id": "aeRRol4pgSwO",
        "outputId": "ddbdb049-e6a0-49fd-ecb0-54f04751bf97"
      },
      "execution_count": 71,
      "outputs": [
        {
          "output_type": "stream",
          "name": "stdout",
          "text": [
            "Digite o valor do raio da circunferência: 3\n",
            "Área da circunferência: 28.27\n"
          ]
        }
      ]
    },
    {
      "cell_type": "markdown",
      "source": [
        "###10ª Exercício\n",
        "Faça um programa que peça uma temperatura em Fahrenheit (F) e converta esta temperatura para grau Celsius (C), mostrando o resultado da conversão na tela.\n",
        "\n",
        "Use a fórmula: C = 5 * ((F-32) / 9)."
      ],
      "metadata": {
        "id": "dl-DPABygVY3"
      }
    },
    {
      "cell_type": "code",
      "source": [
        "f=float(input('Temperatura em Fahrenheit: \\n'))\n",
        "c=5*((f-32)/9)\n",
        "print(f'{f:.2f}° F equivale a {c:.2f}° C .')"
      ],
      "metadata": {
        "colab": {
          "base_uri": "https://localhost:8080/"
        },
        "id": "oYp-5VXbgdF_",
        "outputId": "90da0b0f-4a18-4874-915b-3a43cf127d13"
      },
      "execution_count": 72,
      "outputs": [
        {
          "output_type": "stream",
          "name": "stdout",
          "text": [
            "Temperatura em Fahrenheit: \n",
            "240\n",
            "240.00° F equivale a 115.56° C .\n"
          ]
        }
      ]
    },
    {
      "cell_type": "markdown",
      "source": [
        "###11ª Exercício\n",
        "Escreva um programa que peça dois números e apresente a divisão e multiplicação entre eles. A tela de apresentação deverá seguir o seguinte formato:\n",
        "\n",
        "\"[número1]x[número2]=[multiplicação]\"\n",
        "\n",
        "\"[número1]/[número2]=[divisão]\""
      ],
      "metadata": {
        "id": "SVI8aVu4gmPH"
      }
    },
    {
      "cell_type": "code",
      "source": [
        "num1=float(input('Número 1: '))\n",
        "num2=float(input('Número 2: '))\n",
        "print(f'{num1}x{num2}={num1*num2}')\n",
        "print(f'{num1}/{num2}={num1/num2}')"
      ],
      "metadata": {
        "colab": {
          "base_uri": "https://localhost:8080/"
        },
        "id": "-jYA5G0chPL4",
        "outputId": "04586b64-679d-4cb2-ac0f-656ab90c7bdf"
      },
      "execution_count": 74,
      "outputs": [
        {
          "output_type": "stream",
          "name": "stdout",
          "text": [
            "Número 1: 4\n",
            "Número 2: 2\n",
            "4.0x2.0=8.0\n",
            "4.0/2.0=2.0\n"
          ]
        }
      ]
    },
    {
      "cell_type": "markdown",
      "source": [
        "###12ª Exercício\n",
        "Escreva um programa que receba o nome, sobrenome e idade do usuário e apresente a seguinte mensagem na tela:\n",
        "\n",
        "\"Seja bem-vindo [nome] [sobrenome].\"\n",
        "\n",
        "\"Você possui [idade] anos de idade.\"\n",
        "\n",
        "No campo nome e sobrenome utilize os métodos strip() e title(). Lembre-se que o primeiro método permite remover os espaços antes e depois da string, enquanto que o último permite colocar a string no formato titlecased (capitaliza a string).\n"
      ],
      "metadata": {
        "id": "i0STzmuIhRPH"
      }
    },
    {
      "cell_type": "code",
      "source": [
        "nome=input('Nome: ')\n",
        "sobrenome=input('Sobrenome: ')\n",
        "idade=int(input('Idade: '))\n",
        "print(f'Seja bem-vindo {nome.strip().title()} {sobrenome.strip().title()}')\n",
        "print(f'Você possui {idade} anos de idade.')"
      ],
      "metadata": {
        "colab": {
          "base_uri": "https://localhost:8080/"
        },
        "id": "5lbx42VdhiPW",
        "outputId": "80a10a75-bc7d-4bd8-aaec-ac7c056bd428"
      },
      "execution_count": 75,
      "outputs": [
        {
          "output_type": "stream",
          "name": "stdout",
          "text": [
            "Nome: Thiago\n",
            "Sobrenome: Santos\n",
            "Idade: 36\n",
            "Seja bem-vindo Thiago Santos\n",
            "Você possui 36 anos de idade.\n"
          ]
        }
      ]
    },
    {
      "cell_type": "markdown",
      "source": [
        "###13ª Exercício\n",
        "Escreva um programa que peça um número do usuário via método input e converta esse número para o formato float."
      ],
      "metadata": {
        "id": "vXrDcRqThj5e"
      }
    },
    {
      "cell_type": "code",
      "source": [
        "num=input('Digite um número:: ')\n",
        "num=float(num)\n",
        "print(type(num))"
      ],
      "metadata": {
        "colab": {
          "base_uri": "https://localhost:8080/"
        },
        "id": "GhBiaGoqhrE-",
        "outputId": "c20271db-d138-434e-b775-177f0957ae45"
      },
      "execution_count": 76,
      "outputs": [
        {
          "output_type": "stream",
          "name": "stdout",
          "text": [
            "Digite um número:: 25\n",
            "<class 'float'>\n"
          ]
        }
      ]
    },
    {
      "cell_type": "markdown",
      "source": [
        "###14ª Exercício\n",
        "Escreva um programa que peça o nome e a idade do usuário. Caso a idade do usuário seja maior ou igual a 18 anos apresente a seguinte mensagem: \"Seja bem-vindo ao nosso site [nome]!\"; caso contrário, apresente a seguinte mensagem: \"Você não pode acessar nosso site [nome].\"."
      ],
      "metadata": {
        "id": "_9DoZhQqhse3"
      }
    },
    {
      "cell_type": "code",
      "source": [
        "nome=input('Digite seu nome: ')\n",
        "idade=int(input('Digite sua idade: '))\n",
        "if idade>=18:\n",
        "    print(f'Seja bem-vindo ao nosso site {nome.strip().title()}.')\n",
        "else:\n",
        "    print(f'Você não pode acessar nosso site {nome.strip().title()}.')"
      ],
      "metadata": {
        "colab": {
          "base_uri": "https://localhost:8080/"
        },
        "id": "ERiLDnNrh0Rn",
        "outputId": "a97dc12b-d50a-4cb3-b6b7-a91930022243"
      },
      "execution_count": 77,
      "outputs": [
        {
          "output_type": "stream",
          "name": "stdout",
          "text": [
            "Digite seu nome: Thiago\n",
            "Digite sua idade: 20\n",
            "Seja bem-vindo ao nosso site Thiago.\n"
          ]
        }
      ]
    },
    {
      "cell_type": "markdown",
      "source": [
        "###15ª Exercício\n",
        "Elabore um programa para calcular a hipotenusa de um triângulo.\n",
        "\n",
        "Dicas:\n",
        "\n",
        "Veja o módulo math (math.hypot)\n",
        "\n",
        "Utilize a seguinte fórmula: hipotenusa=(a²+b²)¹/2:"
      ],
      "metadata": {
        "id": "RT2YEb5Eh3Rf"
      }
    },
    {
      "cell_type": "code",
      "source": [
        "from math import hypot\n",
        "\n",
        "cateto_a=float(input('Digite o Cateto Adjacente: '))\n",
        "cateto_o=float(input('Digite o Cateto Oposto: '))\n",
        "\n",
        "hipotenusa1=(cateto_a**2+cateto_o**2)**(1/2)  #forma de cálculo 1\n",
        "hipotenusa2=hypot(cateto_a,cateto_o)  #forma de cálculo 2\n",
        "\n",
        "print(f'Hipotenusa: {hipotenusa1}')\n",
        "print(f'Hipotenusa: {hipotenusa2}')"
      ],
      "metadata": {
        "colab": {
          "base_uri": "https://localhost:8080/"
        },
        "id": "MUG1FgCaiDU3",
        "outputId": "a6e54a78-c52f-4436-e3a5-8b3d8f82a6a9"
      },
      "execution_count": 79,
      "outputs": [
        {
          "output_type": "stream",
          "name": "stdout",
          "text": [
            "Digite o Cateto Adjacente: 3\n",
            "Digite o Cateto Oposto: 4\n",
            "Hipotenusa: 5.0\n",
            "Hipotenusa: 5.0\n"
          ]
        }
      ]
    },
    {
      "cell_type": "markdown",
      "source": [
        "###16ª Exercício\n",
        "Faça um programa que recebe um número inteiro do usuário e calcule o fatorial deste número.\n",
        "Dica: utilize o módulo math do Python, especificamente math.fatorial.*texto em itálico*"
      ],
      "metadata": {
        "id": "yD3D3ZG3iG3_"
      }
    },
    {
      "cell_type": "code",
      "source": [
        "import math\n",
        "num=int(input('Digite um número inteiro: '))\n",
        "fatorial=math.factorial(num)\n",
        "print(f'O fatorial de {num} é {fatorial}')"
      ],
      "metadata": {
        "colab": {
          "base_uri": "https://localhost:8080/"
        },
        "id": "WnY-tdqqiSiv",
        "outputId": "0c2b7855-b8cc-4c1d-a843-793f30fc5d9c"
      },
      "execution_count": 80,
      "outputs": [
        {
          "output_type": "stream",
          "name": "stdout",
          "text": [
            "Digite um número inteiro: 5\n",
            "O fatorial de 5 é 120\n"
          ]
        }
      ]
    },
    {
      "cell_type": "markdown",
      "source": [
        "###17ª Exercício\n",
        "Escreva um programa que peça um número do usuário e calcule o logaritmo deste número nas bases 10 e 2.\n",
        "\n",
        "Dica: utilize o módulo math.*texto em itálico*"
      ],
      "metadata": {
        "id": "e_gdlbZ_iYFv"
      }
    },
    {
      "cell_type": "code",
      "source": [
        "import math\n",
        "\n",
        "num=float(input('Digite um número: '))\n",
        "log1=math.log10(num)  #também podemos fazer: math.log(num,10)\n",
        "log2=math.log(num,2)\n",
        "print(f'O log de {num} na base 10 é {log1}')\n",
        "print(f'O log de {num} na base 2 é {log2}')"
      ],
      "metadata": {
        "colab": {
          "base_uri": "https://localhost:8080/"
        },
        "id": "bxPZrBf3idW-",
        "outputId": "05d05e9b-0e5f-4e98-9f7f-e1acbc7eaabb"
      },
      "execution_count": 81,
      "outputs": [
        {
          "output_type": "stream",
          "name": "stdout",
          "text": [
            "Digite um número: 100\n",
            "O log de 100.0 na base 10 é 2.0\n",
            "O log de 100.0 na base 2 é 6.643856189774725\n"
          ]
        }
      ]
    },
    {
      "cell_type": "markdown",
      "source": [
        "###18ª Exercício\n",
        "Faça um programa que peça a base e a altura de um retângulo e calcule e mostre na tela a área e o perímetro.\n"
      ],
      "metadata": {
        "id": "qSckxaxNifPX"
      }
    },
    {
      "cell_type": "code",
      "source": [
        "base=float(input('Digite a base do retângulo: '))\n",
        "altura=float(input('Digite a altura do retângulo: '))\n",
        "\n",
        "area=base*altura\n",
        "perimetro=2*base+2*altura\n",
        "\n",
        "print(f'O retângulo digitado tem base {base} e altura {altura}.')\n",
        "print(f'A área deste retângulo é: {area}')\n",
        "print(f'O perímetro deste retângulo é: {perimetro}')"
      ],
      "metadata": {
        "colab": {
          "base_uri": "https://localhost:8080/"
        },
        "id": "HUA6TCNRivZX",
        "outputId": "ab3a48a7-76e5-44d6-91e6-911283fb1812"
      },
      "execution_count": 82,
      "outputs": [
        {
          "output_type": "stream",
          "name": "stdout",
          "text": [
            "Digite a base do retângulo: 4\n",
            "Digite a altura do retângulo: 10\n",
            "O retângulo digitado tem base 4.0 e altura 10.0.\n",
            "A área deste retângulo é: 40.0\n",
            "O perímetro deste retângulo é: 28.0\n"
          ]
        }
      ]
    },
    {
      "cell_type": "markdown",
      "source": [
        "###19ª Exercício\n",
        "Escreva um programa que solicite o nome, o sobrenome e o salário atual de um funcionário. Ao fim, calcule seu novo salário considerando cenários hipotéticos, com os seguintes aumentos: 10%, 25%,30% e 50%. A mensagem na tela deverá seguir o seguinte padrão:\n",
        "\n",
        "\"Olá, [nome] [sobrenome]\"\n",
        "\n",
        "\"Seu salário atual é : [salário]\"\n",
        "\n",
        "\"Seu salário com 10% de aumento é: [salário]\"\n",
        "\n",
        "\"Seu salário com 25% de aumento é: [salário]\"\n",
        "\n",
        "\"Seu salário com 30% de aumento é: [salário]\"\n",
        "\n",
        "\"Seu salário com 50% de aumento é: [salário]\"\n",
        "\n",
        "No campo nome e sobrenome utilize os métodos strip() e title(). Lembre-se que o primeiro método permite remover os espaços antes e após a string, enquanto que o último permite colocar a string no formato titlecased (capitaliza string)."
      ],
      "metadata": {
        "id": "ngR_ampnixQo"
      }
    },
    {
      "cell_type": "code",
      "source": [
        "nome=input('Digite seu nome: ').strip().title()\n",
        "sobrenome=input('Digite seu sobrenome: ').strip().title()\n",
        "salario=float(input('Digite seu salário: '))\n",
        "salario1=salario+salario*0.1  #salário com 10% de aumento\n",
        "salario2=salario+salario*0.25  #salário com 25% de aumento\n",
        "salario3=salario+salario*0.3  #salário com 30% de aumento\n",
        "salario4=salario+salario*0.5  #salário com 50% de aumento\n",
        "\n",
        "print(f'Olá, {nome} {sobrenome}')\n",
        "print(f'Seu salário atual é: R$ {salario:.2f}')\n",
        "print(f'Seu salário com 10% de aumento é: R$ {salario1:.2f}')\n",
        "print(f'Seu salário com 25% de aumento é: R$ {salario2:.2f}')\n",
        "print(f'Seu salário com 30% de aumento é: R$ {salario3:.2f}')\n",
        "print(f'Seu salário com 50% de aumento é: R$ {salario4:.2f}')"
      ],
      "metadata": {
        "colab": {
          "base_uri": "https://localhost:8080/"
        },
        "id": "8UKNuUUNjCrX",
        "outputId": "c35e981c-cb65-4af9-8f3f-eb0538248750"
      },
      "execution_count": 83,
      "outputs": [
        {
          "output_type": "stream",
          "name": "stdout",
          "text": [
            "Digite seu nome: Thiago\n",
            "Digite seu sobrenome: Santos\n",
            "Digite seu salário: 1000\n",
            "Olá, Thiago Santos\n",
            "Seu salário atual é: R$ 1000.00\n",
            "Seu salário com 10% de aumento é: R$ 1100.00\n",
            "Seu salário com 25% de aumento é: R$ 1250.00\n",
            "Seu salário com 30% de aumento é: R$ 1300.00\n",
            "Seu salário com 50% de aumento é: R$ 1500.00\n"
          ]
        }
      ]
    },
    {
      "cell_type": "markdown",
      "source": [
        "###20ª Exercício\n",
        "Escreva um programa que peça um número inteiro do usuário e calcule e imprima a tabuada deste número."
      ],
      "metadata": {
        "id": "MfCBRtFqjE03"
      }
    },
    {
      "cell_type": "code",
      "source": [
        "num=int(input('Digite um número inteiro: \\n'))\n",
        "print(f'Tabuada do número: {num}')\n",
        "print(f'{num} x 1 = {num*1}')\n",
        "print(f'{num} x 2 = {num*2}')\n",
        "print(f'{num} x 3 = {num*3}')\n",
        "print(f'{num} x 4 = {num*4}')\n",
        "print(f'{num} x 5 = {num*5}')\n",
        "print(f'{num} x 6 = {num*6}')\n",
        "print(f'{num} x 7 = {num*7}')\n",
        "print(f'{num} x 8 = {num*8}')\n",
        "print(f'{num} x 9 = {num*9}')\n",
        "print(f'{num} x 10 = {num*10}')"
      ],
      "metadata": {
        "colab": {
          "base_uri": "https://localhost:8080/"
        },
        "id": "s-txnQDTjQTW",
        "outputId": "b81d0975-b897-404e-9df2-71dde9c74c2c"
      },
      "execution_count": 84,
      "outputs": [
        {
          "output_type": "stream",
          "name": "stdout",
          "text": [
            "Digite um número inteiro: \n",
            "5\n",
            "Tabuada do número: 5\n",
            "5 x 1 = 5\n",
            "5 x 2 = 10\n",
            "5 x 3 = 15\n",
            "5 x 4 = 20\n",
            "5 x 5 = 25\n",
            "5 x 6 = 30\n",
            "5 x 7 = 35\n",
            "5 x 8 = 40\n",
            "5 x 9 = 45\n",
            "5 x 10 = 50\n"
          ]
        }
      ]
    },
    {
      "cell_type": "code",
      "source": [
        "num=int(input('Digite um número inteiro: \\n'))\n",
        "print(f'Tabuada do número: {num}')\n",
        "for i in range(10):\n",
        "  print(f'{num} x {i+1} = {num*(i+1)}')\n"
      ],
      "metadata": {
        "colab": {
          "base_uri": "https://localhost:8080/"
        },
        "id": "wG0bBxvkjRIW",
        "outputId": "d56b974c-1f04-4e9a-9008-b1e6cfedab9a"
      },
      "execution_count": 89,
      "outputs": [
        {
          "output_type": "stream",
          "name": "stdout",
          "text": [
            "Digite um número inteiro: \n",
            "5\n",
            "Tabuada do número: 5\n",
            "5 x 1 = 5\n",
            "5 x 2 = 10\n",
            "5 x 3 = 15\n",
            "5 x 4 = 20\n",
            "5 x 5 = 25\n",
            "5 x 6 = 30\n",
            "5 x 7 = 35\n",
            "5 x 8 = 40\n",
            "5 x 9 = 45\n",
            "5 x 10 = 50\n"
          ]
        }
      ]
    },
    {
      "cell_type": "markdown",
      "source": [
        "###21ª Exercício\n",
        "Faça um programa que solicite um número inteiro e mostre o seu valor absoluto. Dica: use a função built-in abs().\n"
      ],
      "metadata": {
        "id": "5y5SOnwckLFf"
      }
    },
    {
      "cell_type": "code",
      "source": [
        "num=int(input('Digite um número inteiro: '))\n",
        "print(f'O valor absoluto de {num} é {abs(num)}.')"
      ],
      "metadata": {
        "colab": {
          "base_uri": "https://localhost:8080/"
        },
        "id": "VqCqjE5ikSE_",
        "outputId": "4e97da94-7f8e-4efd-c559-c8d477b5b21f"
      },
      "execution_count": 91,
      "outputs": [
        {
          "output_type": "stream",
          "name": "stdout",
          "text": [
            "Digite um número inteiro: -9\n",
            "O valor absoluto de -9 é 9.\n"
          ]
        }
      ]
    },
    {
      "cell_type": "markdown",
      "source": [
        "###22ª Exercício\n",
        "Faça um programa que peça uma string ao usuário e mostre na tela a quantidade de caracteres.\n",
        "\n",
        "Dica: use a função built-in len() e trate a string com o método strip()."
      ],
      "metadata": {
        "id": "7Y6wK-m8kUDf"
      }
    },
    {
      "cell_type": "code",
      "source": [
        "string=input('Digite algo: ')\n",
        "print(f'Você digitou: {string}')\n",
        "print(f'Quantidade de caracteres do que você digitou é: {len(string)}')"
      ],
      "metadata": {
        "colab": {
          "base_uri": "https://localhost:8080/"
        },
        "id": "ssZ_Xc7RkbTX",
        "outputId": "92b33bca-8dea-4f0b-9279-06f375edbb81"
      },
      "execution_count": 92,
      "outputs": [
        {
          "output_type": "stream",
          "name": "stdout",
          "text": [
            "Digite algo: o que?\n",
            "Você digitou: o que?\n",
            "Quantidade de caracteres do que você digitou é: 6\n"
          ]
        }
      ]
    },
    {
      "cell_type": "markdown",
      "source": [
        "###23ª Exercício\n",
        "Escreva um programa que peça um número inteiro do usuário e mostre se esse número é par ou ímpar. A mensagem na tela deverá seguir o seguinte formato:\n",
        "\n",
        "\"O número [número] é [par/ímpar]\""
      ],
      "metadata": {
        "id": "Imjtlybbkk9R"
      }
    },
    {
      "cell_type": "code",
      "source": [
        "num=int(input('Número inteiro: '))\n",
        "if num%2==0:\n",
        "    print(f'O número {num} é par.')\n",
        "else:\n",
        "    print(f'O número é {num} é ímpar.')"
      ],
      "metadata": {
        "colab": {
          "base_uri": "https://localhost:8080/"
        },
        "id": "MUTceJzlktHH",
        "outputId": "f7ac4d26-7491-4a3f-b45e-19009865a00d"
      },
      "execution_count": 93,
      "outputs": [
        {
          "output_type": "stream",
          "name": "stdout",
          "text": [
            "Número inteiro: 5\n",
            "O número é 5 é ímpar.\n"
          ]
        }
      ]
    },
    {
      "cell_type": "markdown",
      "source": [
        "###24ª** Exercício\n",
        "O Índice de Massa Corporal (IMC) é utilizado para mensurar o peso ideal de uma pessoa. Escreva um programa que peça o nome, a idade , o peso e a altura do usuário. Ao final calcule e mostre o resultado do seu IMC e classifique este resultado de acordo com a regra a seguir.\n",
        "\n",
        "IMC<17 - Muito abaixo do peso ideal\n",
        "\n",
        "17<=IMC<18,5 - Abaixo do peso\n",
        "\n",
        "18,5<=IMC<25 - Peso normal\n",
        "\n",
        "25<=IMC<30 - Acima do peso\n",
        "\n",
        "30<=IMC<35 - Obesidade I\n",
        "\n",
        "35<=IMC<40 - Obesidade II (severa)\n",
        "\n",
        "IMC>=40 - Obesidade III (mórbida)\n",
        "\n",
        "Lembre que: IMC=massa/(altura*altura)"
      ],
      "metadata": {
        "id": "2L91x8cQkvTn"
      }
    },
    {
      "cell_type": "code",
      "source": [
        "print('Cálculo do IMC')\n",
        "altura=float(input('Insira sua altura : \\n'))\n",
        "peso=float(input('Insira seu peso : \\n'))\n",
        "imc=peso/(altura*altura)  #poderíamos fazer peso/altura**2\n",
        "print('Processando seus dados...')\n",
        "if imc<17:\n",
        "    print('Muito abaixo do peso.')\n",
        "elif 17<=imc<18.5:\n",
        "    print('Abaixo do peso.')\n",
        "elif 18.5<=imc<25:\n",
        "    print('Peso normal.')\n",
        "elif 25<=imc<30:\n",
        "    print('Acima do peso.')\n",
        "elif 30<=imc<35:\n",
        "    print('Obesidade Grau I.')\n",
        "elif 35<=imc<40:\n",
        "    print('Obesidade Grau II (severa).')\n",
        "else:\n",
        "    print('Obesidade Grau III (mórbida).')"
      ],
      "metadata": {
        "colab": {
          "base_uri": "https://localhost:8080/"
        },
        "id": "4Nab0nHYk1eX",
        "outputId": "959d0c3e-1a7b-4733-cce5-ac7ccca9dc0e"
      },
      "execution_count": 94,
      "outputs": [
        {
          "output_type": "stream",
          "name": "stdout",
          "text": [
            "Cálculo do IMC\n",
            "Insira sua altura : \n",
            "1.78\n",
            "Insira seu peso : \n",
            "82\n",
            "Processando seus dados...\n",
            "Acima do peso.\n"
          ]
        }
      ]
    },
    {
      "cell_type": "markdown",
      "source": [
        "###25ª Exercício\n",
        "Escreva um programa que receba dois números de ponto flutuante e mostre na tela o maior número digitado. Considere a possibilidade de o usuário digitar dois números iguais.\n",
        "\n",
        "\n"
      ],
      "metadata": {
        "id": "-fW0xr8wk4pX"
      }
    },
    {
      "cell_type": "code",
      "source": [
        "n1=float(input('Valor 1 : '))\n",
        "n2=float(input('Valor 2 : '))\n",
        "if n1>n2:\n",
        "    print(f'{n1}>{n2}')\n",
        "elif n1==n2:\n",
        "    print(f'{n1}={n2}')\n",
        "else:\n",
        "    print(f'{n1}<{n2}')"
      ],
      "metadata": {
        "colab": {
          "base_uri": "https://localhost:8080/"
        },
        "id": "6cq_Bbl4lFFn",
        "outputId": "64414f9e-9076-406b-b17b-35c66f908a73"
      },
      "execution_count": 95,
      "outputs": [
        {
          "output_type": "stream",
          "name": "stdout",
          "text": [
            "Valor 1 : 1\n",
            "Valor 2 : 2\n",
            "1.0<2.0\n"
          ]
        }
      ]
    },
    {
      "cell_type": "markdown",
      "source": [
        "###26ª Exercício\n",
        "Escreva um programa que verifique se um determinado número digitado pelo usuário é nulo, positivo ou negativo."
      ],
      "metadata": {
        "id": "0Wr8R9KylKIH"
      }
    },
    {
      "cell_type": "code",
      "source": [
        "num=float(input('Digite um número: '))\n",
        "if num>0:\n",
        "    print('Número positivo.')\n",
        "elif num==0:\n",
        "    print('Número nulo.')\n",
        "else:\n",
        "    print('Número negativo.')"
      ],
      "metadata": {
        "colab": {
          "base_uri": "https://localhost:8080/"
        },
        "id": "WtB8r2LalSrf",
        "outputId": "5bd2e2b9-93e5-4f9e-f8b1-d56ec0268b88"
      },
      "execution_count": 96,
      "outputs": [
        {
          "output_type": "stream",
          "name": "stdout",
          "text": [
            "Digite um número: -5\n",
            "Número negativo.\n"
          ]
        }
      ]
    },
    {
      "cell_type": "markdown",
      "source": [
        "###27ª Exercício\n",
        "Escreva um programa que receba três números do usuário e mostre na tela o maior número digitado."
      ],
      "metadata": {
        "id": "hvWuS9DalUbw"
      }
    },
    {
      "cell_type": "code",
      "source": [
        "numero1=float(input('Número 1: '))\n",
        "numero2=float(input('Número 2: '))\n",
        "numero3=float(input('Número 3: '))\n",
        "\n",
        "if (numero1>=numero2) and (numero1>=numero3):\n",
        "    print(f'Maior número: {numero1}')\n",
        "elif (numero2>=numero1) and (numero2>=numero3):\n",
        "    print(f'Maior número: {numero2}')\n",
        "else:\n",
        "    print(f'Maior número: {numero3}')"
      ],
      "metadata": {
        "colab": {
          "base_uri": "https://localhost:8080/"
        },
        "id": "o6lvpESLlaog",
        "outputId": "d4b78c44-74b3-4792-be51-83245f9c46ee"
      },
      "execution_count": 97,
      "outputs": [
        {
          "output_type": "stream",
          "name": "stdout",
          "text": [
            "Número 1: 2\n",
            "Número 2: 3\n",
            "Número 3: 5\n",
            "Maior número: 5.0\n"
          ]
        }
      ]
    },
    {
      "cell_type": "markdown",
      "source": [
        "###28ª Exercício\n",
        "Escreva um programa que gere um número aleatório entre 1 e 100 e mostre na tela.\n",
        "\n",
        "Dica: utilize o módulo random."
      ],
      "metadata": {
        "id": "dUXOfQjKlcQF"
      }
    },
    {
      "cell_type": "code",
      "source": [
        "import random\n",
        "num=random.randint(1,100)\n",
        "print(num)"
      ],
      "metadata": {
        "colab": {
          "base_uri": "https://localhost:8080/"
        },
        "id": "_APxeQYVlixn",
        "outputId": "f29b5761-038b-49b6-dee7-fc69a2a432d6"
      },
      "execution_count": 98,
      "outputs": [
        {
          "output_type": "stream",
          "name": "stdout",
          "text": [
            "33\n"
          ]
        }
      ]
    },
    {
      "cell_type": "markdown",
      "source": [
        "###29ª Exercício\n",
        "Elabore um progama para verificar se um ano é bissexto ou não. A condição para ser um ano bissexto é: o ano deve ser divisível por 400; ou se for divisível por 4 e não for divisível por 100.\n"
      ],
      "metadata": {
        "id": "0y7Bv-P-lkWp"
      }
    },
    {
      "cell_type": "code",
      "source": [
        "ano=int(input('Ano : '))\n",
        "if ano%400==0 or (ano%4==0 and not ano%100==0):\n",
        "    print('Ano bissexto.')\n",
        "else:\n",
        "    print('Ano não bissexto.')"
      ],
      "metadata": {
        "colab": {
          "base_uri": "https://localhost:8080/"
        },
        "id": "lsGw7PYhmBRA",
        "outputId": "96a1de2c-3c78-4bda-ea39-c32902bbbf0a"
      },
      "execution_count": 100,
      "outputs": [
        {
          "output_type": "stream",
          "name": "stdout",
          "text": [
            "Ano : 2024\n",
            "Ano bissexto.\n"
          ]
        }
      ]
    },
    {
      "cell_type": "markdown",
      "source": [
        "###30ª Exercício\n",
        "Elabore um programa para calcular o tamanho de uma string."
      ],
      "metadata": {
        "id": "CQGkW2qemBqo"
      }
    },
    {
      "cell_type": "code",
      "source": [
        "string=input('Digite algo: ')\n",
        "print(len(string))"
      ],
      "metadata": {
        "colab": {
          "base_uri": "https://localhost:8080/"
        },
        "id": "n0fhqjlymP7f",
        "outputId": "832908ad-f759-4da7-fa9e-6c305ae9d356"
      },
      "execution_count": 101,
      "outputs": [
        {
          "output_type": "stream",
          "name": "stdout",
          "text": [
            "Digite algo: thiago\n",
            "6\n"
          ]
        }
      ]
    },
    {
      "cell_type": "markdown",
      "source": [
        "###31ª Exercício\n",
        "Utilize o módulo datetime e mostre na tela a data e hora atual do sistema de acordo com o formato descrito abaixo."
      ],
      "metadata": {
        "id": "hMK8ZfAQmQY_"
      }
    },
    {
      "cell_type": "code",
      "source": [
        "import datetime\n",
        "\n",
        "data_atual=datetime.datetime.now()\n",
        "print(data_atual.strftime('%d/%m/%Y - %H:%M:%S'))"
      ],
      "metadata": {
        "colab": {
          "base_uri": "https://localhost:8080/"
        },
        "id": "OvWkT_9DmWz_",
        "outputId": "da1c7e17-0bd3-4a07-f359-62aaf171d65b"
      },
      "execution_count": 102,
      "outputs": [
        {
          "output_type": "stream",
          "name": "stdout",
          "text": [
            "21/02/2024 - 21:36:45\n"
          ]
        }
      ]
    },
    {
      "cell_type": "markdown",
      "source": [
        "###32ª Exercício\n",
        "Escreva um programa que inverta uma string. Exemplos:\n",
        "\n",
        "Hello World!\n",
        "\n",
        "Python\n",
        "\n",
        "!dlroW olleH\n",
        "\n",
        "nohtyP"
      ],
      "metadata": {
        "id": "6BqHJCtMmYZP"
      }
    },
    {
      "cell_type": "code",
      "source": [
        "string1='Hello World!'\n",
        "string2='Python'\n",
        "print(string1)\n",
        "print(string2)\n",
        "print(string1[::-1])\n",
        "print(string2[::-1])"
      ],
      "metadata": {
        "colab": {
          "base_uri": "https://localhost:8080/"
        },
        "id": "r-nzEScmmhDv",
        "outputId": "3ed2e201-a801-4325-ef35-113b5b1adab2"
      },
      "execution_count": 103,
      "outputs": [
        {
          "output_type": "stream",
          "name": "stdout",
          "text": [
            "Hello World!\n",
            "Python\n",
            "!dlroW olleH\n",
            "nohtyP\n"
          ]
        }
      ]
    },
    {
      "cell_type": "markdown",
      "source": [
        "###33ª Exercício\n",
        "Escreva um programa para mostrar na tela o calendário do mês de dezembro de 2024."
      ],
      "metadata": {
        "id": "gdJLHWq-mhi_"
      }
    },
    {
      "cell_type": "code",
      "source": [
        "import calendar\n",
        "print(calendar.month(2024,12))"
      ],
      "metadata": {
        "colab": {
          "base_uri": "https://localhost:8080/"
        },
        "id": "Kzyd5Q2dmo9n",
        "outputId": "804c7cfe-0b5a-4f2f-f039-b04d033bb1c1"
      },
      "execution_count": 104,
      "outputs": [
        {
          "output_type": "stream",
          "name": "stdout",
          "text": [
            "   December 2024\n",
            "Mo Tu We Th Fr Sa Su\n",
            "                   1\n",
            " 2  3  4  5  6  7  8\n",
            " 9 10 11 12 13 14 15\n",
            "16 17 18 19 20 21 22\n",
            "23 24 25 26 27 28 29\n",
            "30 31\n",
            "\n"
          ]
        }
      ]
    },
    {
      "cell_type": "markdown",
      "source": [
        "###34ª Exercício\n",
        "Modifique o programa anterior e permita que o usuário especifique o ano e o mês a serem mostrados na tela."
      ],
      "metadata": {
        "id": "Be4jEI8mm0nn"
      }
    },
    {
      "cell_type": "code",
      "source": [
        "import calendar\n",
        "ano=int(input('Ano: '))\n",
        "mes=int(input('Mês: '))\n",
        "\n",
        "print(calendar.month(ano,mes))"
      ],
      "metadata": {
        "colab": {
          "base_uri": "https://localhost:8080/"
        },
        "id": "rAF1wQohm6nw",
        "outputId": "6f6eb591-d406-4a67-959c-0c9bdbf1969e"
      },
      "execution_count": 105,
      "outputs": [
        {
          "output_type": "stream",
          "name": "stdout",
          "text": [
            "Ano: 2024\n",
            "Mês: 6\n",
            "     June 2024\n",
            "Mo Tu We Th Fr Sa Su\n",
            "                1  2\n",
            " 3  4  5  6  7  8  9\n",
            "10 11 12 13 14 15 16\n",
            "17 18 19 20 21 22 23\n",
            "24 25 26 27 28 29 30\n",
            "\n"
          ]
        }
      ]
    },
    {
      "cell_type": "markdown",
      "source": [
        "###35ª Exercício\n",
        "Escreva um script que mostre na tela o preço de um produto associado a uma categoria especificada pelo usuário. Utilize como referência as informações a seguir. Caso o usuário não digite uma categoria válida (número entre 1 e 10) mostre na tela uma mensagem personalizada."
      ],
      "metadata": {
        "id": "W-PZSJs2m8dY"
      }
    },
    {
      "cell_type": "code",
      "source": [
        "categoria=int(input('Digite a categoria do produto: '))\n",
        "if categoria==1:\n",
        "    print('O preço do produto é: $ 0.5')\n",
        "elif categoria==2:\n",
        "    print('O preço do produto é: $ 11.3')\n",
        "elif categoria==3:\n",
        "    print('O preço do produto é: $ 17.5')\n",
        "elif categoria==4:\n",
        "    print('O preço do produto é: $ 33.97')\n",
        "elif categoria==5:\n",
        "    print('O preço do produto é: $ 103.47')\n",
        "elif categoria==6:\n",
        "    print('O preço do produto é: $ 44.67')\n",
        "elif categoria==7:\n",
        "    print('O preço do produto é: $ 12.55')\n",
        "elif categoria==8:\n",
        "    print('O preço do produto é: $ 14.87')\n",
        "elif categoria==9:\n",
        "    print('O preço do produto é: $ 98.12')\n",
        "elif categoria==10:\n",
        "    print('O preço do produto é: $ 131.4')\n",
        "else:\n",
        "    print('Opção inválida.')\n"
      ],
      "metadata": {
        "colab": {
          "base_uri": "https://localhost:8080/"
        },
        "id": "7M3iPx89nCvI",
        "outputId": "549ab6e0-2e08-4882-ff36-738c1628e57a"
      },
      "execution_count": 106,
      "outputs": [
        {
          "output_type": "stream",
          "name": "stdout",
          "text": [
            "Digite a categoria do produto: 1\n",
            "O preço do produto é: $ 0.5\n"
          ]
        }
      ]
    },
    {
      "cell_type": "markdown",
      "source": [
        "###36ª Exercício\n",
        "Resolva o exercício anterior para as categorias de 1 a 8. Utilize estruturas aninhadas."
      ],
      "metadata": {
        "id": "foMMpGM6nIrA"
      }
    },
    {
      "cell_type": "code",
      "source": [
        "categoria=int(input('Categoria do produto: '))\n",
        "if categoria==1:\n",
        "    print('Preço: $ 0.5')\n",
        "else:\n",
        "    if categoria==2:\n",
        "        print('Preço: $ 11.35')\n",
        "    else:\n",
        "        if categoria==3:\n",
        "            print('Preço: $ 17.5')\n",
        "        else:\n",
        "            if categoria==4:\n",
        "                print('Preço: $ 33.97')\n",
        "            else:\n",
        "                if categoria==5:\n",
        "                    print('Preço: $ 103.47')\n",
        "                else:\n",
        "                    if categoria==6:\n",
        "                        print('Preço: $ 44.67')\n",
        "                    else:\n",
        "                        if categoria==7:\n",
        "                            print('Preço: $ 12.55')\n",
        "                        else:\n",
        "                            if categoria==8:\n",
        "                                print('Preço: $ 14.87')\n",
        "                            else:\n",
        "                                print('Categoria inválida.')"
      ],
      "metadata": {
        "colab": {
          "base_uri": "https://localhost:8080/"
        },
        "id": "uh4clQUVnPTw",
        "outputId": "b5af225f-d7b2-4332-e4af-48bf0e865f81"
      },
      "execution_count": 107,
      "outputs": [
        {
          "output_type": "stream",
          "name": "stdout",
          "text": [
            "Categoria do produto: 4\n",
            "Preço: $ 33.97\n"
          ]
        }
      ]
    },
    {
      "cell_type": "markdown",
      "source": [
        "###37ª Exercício\n",
        "Determine se uma letra inserida pelo usuário é uma vogal ou consoante. Armazene as vogais em uma lista e implemente sua solução. Desconsidere a possibilidade de o usuário inserir números ou caracteres especiais."
      ],
      "metadata": {
        "id": "GPOol6gpnRxI"
      }
    },
    {
      "cell_type": "code",
      "source": [
        "letra=input('Digite uma letra: ')\n",
        "vogais=['a','e','i','o','u']\n",
        "if letra in vogais:\n",
        "    print('A letra digitada é uma vogal.')\n",
        "else:\n",
        "    print('A letra digitada é uma consoante.')"
      ],
      "metadata": {
        "colab": {
          "base_uri": "https://localhost:8080/"
        },
        "id": "PJBhO9Q-nWfA",
        "outputId": "4b6c0a06-3668-400d-98cd-0736c66e5ff8"
      },
      "execution_count": 108,
      "outputs": [
        {
          "output_type": "stream",
          "name": "stdout",
          "text": [
            "Digite uma letra: g\n",
            "A letra digitada é uma consoante.\n"
          ]
        }
      ]
    },
    {
      "cell_type": "markdown",
      "source": [
        "###38ª Exercício\n",
        "Escreva um script para classificar um triângulo de acordo com o tamanho dos seus lados. Considere as seguintes informações:\n",
        "\n",
        "Triângulo equilátero: todos os lados possuem o mesmo tamanho;\n",
        "\n",
        "Trângulo escaleno: todos os lados possuem medidas diferentes;\n",
        "\n",
        "Triângulo isósceles: caracterizado por ter dois lados com o mesmo tamanho."
      ],
      "metadata": {
        "id": "UOV4udFYnXuf"
      }
    },
    {
      "cell_type": "code",
      "source": [
        "ladoA=float(input('Lado A: '))\n",
        "ladoB=float(input('Lado B: '))\n",
        "ladoC=float(input('Lado C: '))\n",
        "if ladoA==ladoB==ladoC:\n",
        "    print('O triângulo é equilátero.')\n",
        "elif ladoA==ladoB or ladoA==ladoC or ladoB==ladoC:\n",
        "    print('O triângulo é isósceles.')\n",
        "else:\n",
        "    print('O triângulo é escaleno.')"
      ],
      "metadata": {
        "colab": {
          "base_uri": "https://localhost:8080/"
        },
        "id": "HdTbhcsJneRg",
        "outputId": "3b1b649f-4b8d-4d9d-dfc5-2a65c2399b50"
      },
      "execution_count": 109,
      "outputs": [
        {
          "output_type": "stream",
          "name": "stdout",
          "text": [
            "Lado A: 3\n",
            "Lado B: 4\n",
            "Lado C: 5\n",
            "O triângulo é escaleno.\n"
          ]
        }
      ]
    },
    {
      "cell_type": "markdown",
      "source": [
        "###39ª Exercício\n",
        "Implemente uma calculadora simples com as operações aritméticas básicas. O usuário deverá especificar a operação desejada (+,-,*,/) e seguidamente inserir dois valores. Caso, o usuário escolha divisão e insira o valor do denominar 0 mostre uma mensagem personalizada. Para os demais casos, mostre na tela o resultado da operação desejada."
      ],
      "metadata": {
        "id": "eip_AuRAnfxA"
      }
    },
    {
      "cell_type": "code",
      "source": [
        "operacao=input('Escolha a operação deseja: (+,-,*,/)')\n",
        "if operacao in ['+','-','*','/']:\n",
        "    num1=float(input('Número 1: '))\n",
        "    num2=float(input('Número 2: '))\n",
        "    if operacao=='+':\n",
        "        print(f'{num1}+{num2}={num1+num2}')\n",
        "    elif operacao=='-':\n",
        "        print(f'{num1}-{num2}={num1-num2}')\n",
        "    elif operacao=='*':\n",
        "        print(f'{num1}*{num2}={num1*num2}')\n",
        "    else:\n",
        "        if num2==0:\n",
        "            print('O denominador precisa ser diferente de zero.')\n",
        "        else:\n",
        "            print(f'{num1}/{num2}={num1/num2}')\n",
        "else:\n",
        "    print('Opção inválida.')"
      ],
      "metadata": {
        "colab": {
          "base_uri": "https://localhost:8080/"
        },
        "id": "Cj-w4NiDnnRQ",
        "outputId": "cef29bcc-5aac-4352-91e6-6f8e16b9e536"
      },
      "execution_count": 110,
      "outputs": [
        {
          "output_type": "stream",
          "name": "stdout",
          "text": [
            "Escolha a operação deseja: (+,-,*,/)+\n",
            "Número 1: 5\n",
            "Número 2: 3\n",
            "5.0+3.0=8.0\n"
          ]
        }
      ]
    },
    {
      "cell_type": "markdown",
      "source": [
        "###40ª Exercício\n",
        "Escreva um programa que mostre de 1 até 50 na tela."
      ],
      "metadata": {
        "id": "vFTpTC1gnp_A"
      }
    },
    {
      "cell_type": "code",
      "source": [
        "for num in range(1,51):\n",
        "    print(num)"
      ],
      "metadata": {
        "colab": {
          "base_uri": "https://localhost:8080/"
        },
        "id": "XVOSQB_2n1oA",
        "outputId": "2bb927d7-146f-4934-e663-77f006ca3e98"
      },
      "execution_count": 111,
      "outputs": [
        {
          "output_type": "stream",
          "name": "stdout",
          "text": [
            "1\n",
            "2\n",
            "3\n",
            "4\n",
            "5\n",
            "6\n",
            "7\n",
            "8\n",
            "9\n",
            "10\n",
            "11\n",
            "12\n",
            "13\n",
            "14\n",
            "15\n",
            "16\n",
            "17\n",
            "18\n",
            "19\n",
            "20\n",
            "21\n",
            "22\n",
            "23\n",
            "24\n",
            "25\n",
            "26\n",
            "27\n",
            "28\n",
            "29\n",
            "30\n",
            "31\n",
            "32\n",
            "33\n",
            "34\n",
            "35\n",
            "36\n",
            "37\n",
            "38\n",
            "39\n",
            "40\n",
            "41\n",
            "42\n",
            "43\n",
            "44\n",
            "45\n",
            "46\n",
            "47\n",
            "48\n",
            "49\n",
            "50\n"
          ]
        }
      ]
    },
    {
      "cell_type": "markdown",
      "source": [
        "###41ª Exercício\n",
        "Escreva um programa que mostre de 50 até 1 na tela."
      ],
      "metadata": {
        "id": "D7_1Ib0Dn19g"
      }
    },
    {
      "cell_type": "code",
      "source": [
        "for num in range(50,0,-1):\n",
        "    print(num)"
      ],
      "metadata": {
        "colab": {
          "base_uri": "https://localhost:8080/"
        },
        "id": "0d2vGj9zn9mf",
        "outputId": "8a947c27-aca3-43a1-e573-4d551bf5e4d8"
      },
      "execution_count": 112,
      "outputs": [
        {
          "output_type": "stream",
          "name": "stdout",
          "text": [
            "50\n",
            "49\n",
            "48\n",
            "47\n",
            "46\n",
            "45\n",
            "44\n",
            "43\n",
            "42\n",
            "41\n",
            "40\n",
            "39\n",
            "38\n",
            "37\n",
            "36\n",
            "35\n",
            "34\n",
            "33\n",
            "32\n",
            "31\n",
            "30\n",
            "29\n",
            "28\n",
            "27\n",
            "26\n",
            "25\n",
            "24\n",
            "23\n",
            "22\n",
            "21\n",
            "20\n",
            "19\n",
            "18\n",
            "17\n",
            "16\n",
            "15\n",
            "14\n",
            "13\n",
            "12\n",
            "11\n",
            "10\n",
            "9\n",
            "8\n",
            "7\n",
            "6\n",
            "5\n",
            "4\n",
            "3\n",
            "2\n",
            "1\n"
          ]
        }
      ]
    },
    {
      "cell_type": "markdown",
      "source": [
        "###42ª Exercício\n",
        "Escreva um programa que mostre de 150 até 200 na tela."
      ],
      "metadata": {
        "id": "Ip8Ln4EOn--H"
      }
    },
    {
      "cell_type": "code",
      "source": [
        "for num in range(150,201):\n",
        "    print(num)"
      ],
      "metadata": {
        "colab": {
          "base_uri": "https://localhost:8080/"
        },
        "id": "N0YjCE4woEzP",
        "outputId": "0c0071bc-370a-43a3-af3a-32cf7e6e5bba"
      },
      "execution_count": 113,
      "outputs": [
        {
          "output_type": "stream",
          "name": "stdout",
          "text": [
            "150\n",
            "151\n",
            "152\n",
            "153\n",
            "154\n",
            "155\n",
            "156\n",
            "157\n",
            "158\n",
            "159\n",
            "160\n",
            "161\n",
            "162\n",
            "163\n",
            "164\n",
            "165\n",
            "166\n",
            "167\n",
            "168\n",
            "169\n",
            "170\n",
            "171\n",
            "172\n",
            "173\n",
            "174\n",
            "175\n",
            "176\n",
            "177\n",
            "178\n",
            "179\n",
            "180\n",
            "181\n",
            "182\n",
            "183\n",
            "184\n",
            "185\n",
            "186\n",
            "187\n",
            "188\n",
            "189\n",
            "190\n",
            "191\n",
            "192\n",
            "193\n",
            "194\n",
            "195\n",
            "196\n",
            "197\n",
            "198\n",
            "199\n",
            "200\n"
          ]
        }
      ]
    },
    {
      "cell_type": "markdown",
      "source": [
        "###43ª Exercício\n",
        "Escreva um programa de contagem regressiva, ou seja, imprima na tela o seguinte padrão numérico: 5 4 3 2 1 0\n"
      ],
      "metadata": {
        "id": "6KxTA-emoGCP"
      }
    },
    {
      "cell_type": "code",
      "source": [
        "for num in range(5,-1,-1):\n",
        "    print(num)\n",
        ""
      ],
      "metadata": {
        "colab": {
          "base_uri": "https://localhost:8080/"
        },
        "id": "tXBIPHNPoMeY",
        "outputId": "ec131d38-9a6f-43aa-f643-3a382741ec3e"
      },
      "execution_count": 114,
      "outputs": [
        {
          "output_type": "stream",
          "name": "stdout",
          "text": [
            "5\n",
            "4\n",
            "3\n",
            "2\n",
            "1\n",
            "0\n"
          ]
        }
      ]
    },
    {
      "cell_type": "markdown",
      "source": [
        "###44ª Exercício\n",
        "Faça um programa que imprima na tela de 1 até um número digitado pelo usuário."
      ],
      "metadata": {
        "id": "p5WBm-LHoUIF"
      }
    },
    {
      "cell_type": "code",
      "source": [
        "num=int(input('Digite um número: '))  #receber número do usuário\n",
        "\n",
        "for valor in range(1,num+1):\n",
        "    print(valor)"
      ],
      "metadata": {
        "colab": {
          "base_uri": "https://localhost:8080/"
        },
        "id": "7Nk_Pwzyoa_4",
        "outputId": "efd038c7-6732-4646-8706-098abb412107"
      },
      "execution_count": 115,
      "outputs": [
        {
          "output_type": "stream",
          "name": "stdout",
          "text": [
            "Digite um número: 5\n",
            "1\n",
            "2\n",
            "3\n",
            "4\n",
            "5\n"
          ]
        }
      ]
    },
    {
      "cell_type": "markdown",
      "source": [
        "###45ª Exercício\n",
        "Escreva um programa que mostre na tela os 20 primeiros múltiplos de 5.\n"
      ],
      "metadata": {
        "id": "0iD5tlrXobXo"
      }
    },
    {
      "cell_type": "code",
      "source": [
        "lista=[]\n",
        "x=1\n",
        "#armazenando os números em uma lista\n",
        "while len(lista)<20:\n",
        "    if x%5==0:\n",
        "        lista.append(x)\n",
        "        x+=1\n",
        "    x+=1\n",
        "\n",
        "#mostrando os números na tela\n",
        "for num in lista:\n",
        "    print(num)"
      ],
      "metadata": {
        "colab": {
          "base_uri": "https://localhost:8080/"
        },
        "id": "uucIX4aTojMg",
        "outputId": "a4d430a7-7e52-4f99-c241-3010a2f2e0c5"
      },
      "execution_count": 116,
      "outputs": [
        {
          "output_type": "stream",
          "name": "stdout",
          "text": [
            "5\n",
            "10\n",
            "15\n",
            "20\n",
            "25\n",
            "30\n",
            "35\n",
            "40\n",
            "45\n",
            "50\n",
            "55\n",
            "60\n",
            "65\n",
            "70\n",
            "75\n",
            "80\n",
            "85\n",
            "90\n",
            "95\n",
            "100\n"
          ]
        }
      ]
    },
    {
      "cell_type": "markdown",
      "source": [
        "###46ª Exercício\n",
        "Utilizando estruturas de repetição escreva um programa que mostre os resultados da tabuada (multiplicação) de um número inserido pelo usuário."
      ],
      "metadata": {
        "id": "jNpjI1U4olWB"
      }
    },
    {
      "cell_type": "code",
      "source": [
        "valor=int(input('Tabuada:'))\n",
        "for num in range(1,11):\n",
        "    print(f'{valor} x {num} = {valor*num}')"
      ],
      "metadata": {
        "colab": {
          "base_uri": "https://localhost:8080/"
        },
        "id": "-RqkQg1ho1fv",
        "outputId": "f299bafc-0758-488f-88cf-f106f7e5823e"
      },
      "execution_count": 117,
      "outputs": [
        {
          "output_type": "stream",
          "name": "stdout",
          "text": [
            "Tabuada:3\n",
            "3 x 1 = 3\n",
            "3 x 2 = 6\n",
            "3 x 3 = 9\n",
            "3 x 4 = 12\n",
            "3 x 5 = 15\n",
            "3 x 6 = 18\n",
            "3 x 7 = 21\n",
            "3 x 8 = 24\n",
            "3 x 9 = 27\n",
            "3 x 10 = 30\n"
          ]
        }
      ]
    },
    {
      "cell_type": "markdown",
      "source": [
        "###47ª Exercício\n",
        "Utilizando estruturas de repetição escreva um programa que mostre os resultados da tabuada de multiplicação dos números entre 1 e 10"
      ],
      "metadata": {
        "id": "F1lI1Bw4o4nn"
      }
    },
    {
      "cell_type": "code",
      "source": [
        "for valor in range(1,11):\n",
        "\n",
        "  print('-----------')\n",
        "  print(f'Tabuada do {valor}')\n",
        "  for numero in range(1,11):\n",
        "    print(f'{valor} x {numero} = {valor*numero}')"
      ],
      "metadata": {
        "colab": {
          "base_uri": "https://localhost:8080/"
        },
        "id": "Sz6JF6t7o_rA",
        "outputId": "8bf12281-2b2e-45f4-a0b7-0c8a0a4b660c"
      },
      "execution_count": 126,
      "outputs": [
        {
          "output_type": "stream",
          "name": "stdout",
          "text": [
            "-----------\n",
            "Tabuada do 1\n",
            "1 x 1 = 1\n",
            "1 x 2 = 2\n",
            "1 x 3 = 3\n",
            "1 x 4 = 4\n",
            "1 x 5 = 5\n",
            "1 x 6 = 6\n",
            "1 x 7 = 7\n",
            "1 x 8 = 8\n",
            "1 x 9 = 9\n",
            "1 x 10 = 10\n",
            "-----------\n",
            "Tabuada do 2\n",
            "2 x 1 = 2\n",
            "2 x 2 = 4\n",
            "2 x 3 = 6\n",
            "2 x 4 = 8\n",
            "2 x 5 = 10\n",
            "2 x 6 = 12\n",
            "2 x 7 = 14\n",
            "2 x 8 = 16\n",
            "2 x 9 = 18\n",
            "2 x 10 = 20\n",
            "-----------\n",
            "Tabuada do 3\n",
            "3 x 1 = 3\n",
            "3 x 2 = 6\n",
            "3 x 3 = 9\n",
            "3 x 4 = 12\n",
            "3 x 5 = 15\n",
            "3 x 6 = 18\n",
            "3 x 7 = 21\n",
            "3 x 8 = 24\n",
            "3 x 9 = 27\n",
            "3 x 10 = 30\n",
            "-----------\n",
            "Tabuada do 4\n",
            "4 x 1 = 4\n",
            "4 x 2 = 8\n",
            "4 x 3 = 12\n",
            "4 x 4 = 16\n",
            "4 x 5 = 20\n",
            "4 x 6 = 24\n",
            "4 x 7 = 28\n",
            "4 x 8 = 32\n",
            "4 x 9 = 36\n",
            "4 x 10 = 40\n",
            "-----------\n",
            "Tabuada do 5\n",
            "5 x 1 = 5\n",
            "5 x 2 = 10\n",
            "5 x 3 = 15\n",
            "5 x 4 = 20\n",
            "5 x 5 = 25\n",
            "5 x 6 = 30\n",
            "5 x 7 = 35\n",
            "5 x 8 = 40\n",
            "5 x 9 = 45\n",
            "5 x 10 = 50\n",
            "-----------\n",
            "Tabuada do 6\n",
            "6 x 1 = 6\n",
            "6 x 2 = 12\n",
            "6 x 3 = 18\n",
            "6 x 4 = 24\n",
            "6 x 5 = 30\n",
            "6 x 6 = 36\n",
            "6 x 7 = 42\n",
            "6 x 8 = 48\n",
            "6 x 9 = 54\n",
            "6 x 10 = 60\n",
            "-----------\n",
            "Tabuada do 7\n",
            "7 x 1 = 7\n",
            "7 x 2 = 14\n",
            "7 x 3 = 21\n",
            "7 x 4 = 28\n",
            "7 x 5 = 35\n",
            "7 x 6 = 42\n",
            "7 x 7 = 49\n",
            "7 x 8 = 56\n",
            "7 x 9 = 63\n",
            "7 x 10 = 70\n",
            "-----------\n",
            "Tabuada do 8\n",
            "8 x 1 = 8\n",
            "8 x 2 = 16\n",
            "8 x 3 = 24\n",
            "8 x 4 = 32\n",
            "8 x 5 = 40\n",
            "8 x 6 = 48\n",
            "8 x 7 = 56\n",
            "8 x 8 = 64\n",
            "8 x 9 = 72\n",
            "8 x 10 = 80\n",
            "-----------\n",
            "Tabuada do 9\n",
            "9 x 1 = 9\n",
            "9 x 2 = 18\n",
            "9 x 3 = 27\n",
            "9 x 4 = 36\n",
            "9 x 5 = 45\n",
            "9 x 6 = 54\n",
            "9 x 7 = 63\n",
            "9 x 8 = 72\n",
            "9 x 9 = 81\n",
            "9 x 10 = 90\n",
            "-----------\n",
            "Tabuada do 10\n",
            "10 x 1 = 10\n",
            "10 x 2 = 20\n",
            "10 x 3 = 30\n",
            "10 x 4 = 40\n",
            "10 x 5 = 50\n",
            "10 x 6 = 60\n",
            "10 x 7 = 70\n",
            "10 x 8 = 80\n",
            "10 x 9 = 90\n",
            "10 x 10 = 100\n"
          ]
        }
      ]
    },
    {
      "cell_type": "markdown",
      "source": [
        "###48ª Exercício\n",
        "Em um único loop escreva um programa que mostre na tela de 1 a 10 três vezes e ao final mostre a mensagem Fim . No primeiro loop utilize for e nos dois loops seguintes while."
      ],
      "metadata": {
        "id": "pvk2SXNLpEAH"
      }
    },
    {
      "cell_type": "code",
      "source": [
        "x=1\n",
        "for i in range(1,11):\n",
        "    print(i)\n",
        "    if i==10:\n",
        "        while x<=10:\n",
        "            print(x)\n",
        "            x+=1\n",
        "            if x==11:\n",
        "                y=1\n",
        "                while y<=10:\n",
        "                    print(y)\n",
        "                    y+=1\n",
        "                    if y==11:\n",
        "                        print('Fim')\n"
      ],
      "metadata": {
        "colab": {
          "base_uri": "https://localhost:8080/"
        },
        "id": "r7glkxZhqPM3",
        "outputId": "ac8634af-234b-4c54-a93f-94914ce9f323"
      },
      "execution_count": 127,
      "outputs": [
        {
          "output_type": "stream",
          "name": "stdout",
          "text": [
            "1\n",
            "2\n",
            "3\n",
            "4\n",
            "5\n",
            "6\n",
            "7\n",
            "8\n",
            "9\n",
            "10\n",
            "1\n",
            "2\n",
            "3\n",
            "4\n",
            "5\n",
            "6\n",
            "7\n",
            "8\n",
            "9\n",
            "10\n",
            "1\n",
            "2\n",
            "3\n",
            "4\n",
            "5\n",
            "6\n",
            "7\n",
            "8\n",
            "9\n",
            "10\n",
            "Fim\n"
          ]
        }
      ]
    },
    {
      "cell_type": "markdown",
      "source": [
        "###49ª Exercício\n",
        "Escreva um programa que peça ao usuário números entre 0-10. Se o usuário inserir um número fora desse intervalo o programa deverá finalizar com uma mensagem personalizada."
      ],
      "metadata": {
        "id": "_gI4E91LqZBm"
      }
    },
    {
      "cell_type": "code",
      "source": [
        "num=0\n",
        "while 0<=num<=10:\n",
        "    num=int(input('Insira um número inteiro entre 0-10: '))\n",
        "    if num<0 or num>10:\n",
        "        print('Fim do programa.')"
      ],
      "metadata": {
        "colab": {
          "base_uri": "https://localhost:8080/"
        },
        "id": "a7FQYMf7qtNg",
        "outputId": "f191889d-a1e3-46df-f1f9-0837fdbfa0e6"
      },
      "execution_count": 128,
      "outputs": [
        {
          "output_type": "stream",
          "name": "stdout",
          "text": [
            "Insira um número inteiro entre 0-10: 10\n",
            "Insira um número inteiro entre 0-10: 5\n",
            "Insira um número inteiro entre 0-10: 3\n",
            "Insira um número inteiro entre 0-10: 11\n",
            "Fim do programa.\n"
          ]
        }
      ]
    },
    {
      "cell_type": "markdown",
      "source": [
        "###50ª Exercício\n",
        "Em um único loop escreva um programa que mostre na tela de 0-5, cinco vezes e ao final mostre a mensagem Fim . Utilize apenas for em sua implementação. Seu programa deverá gerar um output com o seguinte formato:"
      ],
      "metadata": {
        "id": "igopnIJmqtq4"
      }
    },
    {
      "cell_type": "code",
      "source": [
        "for i in range(0,6):\n",
        "    print(i)\n",
        "\n",
        "    if i==5:\n",
        "        for j in range(0,6):\n",
        "            print(j)\n",
        "\n",
        "            if j==5:\n",
        "                for k in range(0,6):\n",
        "                    print(k)\n",
        "\n",
        "                    if k==5:\n",
        "                        for l in range(0,6):\n",
        "                            print(l)\n",
        "\n",
        "                            if l==5:\n",
        "                                for m in range(0,6):\n",
        "                                    print(m)\n",
        "\n",
        "                                    if m==5:\n",
        "                                        print('Fim')"
      ],
      "metadata": {
        "colab": {
          "base_uri": "https://localhost:8080/"
        },
        "id": "_DnClkEEq2CY",
        "outputId": "25d6b318-3d27-4c87-a636-006921e50ad3"
      },
      "execution_count": 129,
      "outputs": [
        {
          "output_type": "stream",
          "name": "stdout",
          "text": [
            "0\n",
            "1\n",
            "2\n",
            "3\n",
            "4\n",
            "5\n",
            "0\n",
            "1\n",
            "2\n",
            "3\n",
            "4\n",
            "5\n",
            "0\n",
            "1\n",
            "2\n",
            "3\n",
            "4\n",
            "5\n",
            "0\n",
            "1\n",
            "2\n",
            "3\n",
            "4\n",
            "5\n",
            "0\n",
            "1\n",
            "2\n",
            "3\n",
            "4\n",
            "5\n",
            "Fim\n"
          ]
        }
      ]
    },
    {
      "cell_type": "code",
      "source": [],
      "metadata": {
        "id": "sMHaDXapq4Wp"
      },
      "execution_count": null,
      "outputs": []
    }
  ]
}